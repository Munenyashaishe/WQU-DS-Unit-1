{
 "cells": [
  {
   "cell_type": "code",
   "execution_count": 1,
   "metadata": {
    "init_cell": true
   },
   "outputs": [],
   "source": [
    "%logstop\n",
    "%logstart -rtq ~/.logs/dw.py append\n",
    "%matplotlib inline\n",
    "import matplotlib\n",
    "import seaborn as sns\n",
    "sns.set()\n",
    "matplotlib.rcParams['figure.dpi'] = 144"
   ]
  },
  {
   "cell_type": "code",
   "execution_count": 2,
   "metadata": {},
   "outputs": [],
   "source": [
    "from static_grader import grader"
   ]
  },
  {
   "cell_type": "markdown",
   "metadata": {},
   "source": [
    "# DW Miniproject\n",
    "## Introduction\n",
    "\n",
    "The objective of this miniproject is to exercise your ability to wrangle tabular data set and aggregate large data sets into meaningful summary statistics. We'll work with the same medical data used in the `pw` miniproject but leverage the power of Pandas to more efficiently represent and act on our data."
   ]
  },
  {
   "cell_type": "markdown",
   "metadata": {},
   "source": [
    "## Downloading the data\n",
    "\n",
    "We first need to download the data we'll be using from Amazon S3:"
   ]
  },
  {
   "cell_type": "code",
   "execution_count": 4,
   "metadata": {},
   "outputs": [
    {
     "name": "stdout",
     "output_type": "stream",
     "text": [
      "mkdir: cannot create directory ‘dw-data’: File exists\n",
      "File ‘./dw-data/201701scripts_sample.csv.gz’ already there; not retrieving.\n",
      "\n",
      "File ‘./dw-data/201606scripts_sample.csv.gz’ already there; not retrieving.\n",
      "\n",
      "File ‘./dw-data/practices.csv.gz’ already there; not retrieving.\n",
      "\n",
      "File ‘./dw-data/chem.csv.gz’ already there; not retrieving.\n",
      "\n"
     ]
    }
   ],
   "source": [
    "!mkdir dw-data\n",
    "!wget http://dataincubator-wqu.s3.amazonaws.com/dwdata/201701scripts_sample.csv.gz -nc -P ./dw-data/\n",
    "!wget http://dataincubator-wqu.s3.amazonaws.com/dwdata/201606scripts_sample.csv.gz -nc -P ./dw-data/\n",
    "!wget http://dataincubator-wqu.s3.amazonaws.com/dwdata/practices.csv.gz -nc -P ./dw-data/\n",
    "!wget http://dataincubator-wqu.s3.amazonaws.com/dwdata/chem.csv.gz -nc -P ./dw-data/"
   ]
  },
  {
   "cell_type": "markdown",
   "metadata": {},
   "source": [
    "## Loading the data\n",
    "\n",
    "Similar to the `PW` miniproject, the first step is to read in the data. The data files are stored as compressed CSV files. You can load the data into a Pandas DataFrame by making use of the `gzip` package to decompress the files and Panda's `read_csv` methods to parse the data into a DataFrame. You may want to check the Pandas documentation for parsing [CSV](http://pandas.pydata.org/pandas-docs/stable/generated/pandas.read_csv.html) files for reference.\n",
    "\n",
    "For a description of the data set please, refer to the [PW miniproject](./pw.ipynb). **Note that all questions make use of the 2017 data only, except for Question 5 which makes use of both the 2017 and 2016 data.**"
   ]
  },
  {
   "cell_type": "code",
   "execution_count": 3,
   "metadata": {},
   "outputs": [],
   "source": [
    "import pandas as pd\n",
    "import numpy as np\n",
    "import gzip"
   ]
  },
  {
   "cell_type": "code",
   "execution_count": 4,
   "metadata": {},
   "outputs": [],
   "source": [
    "!cd dw-data"
   ]
  },
  {
   "cell_type": "code",
   "execution_count": 5,
   "metadata": {},
   "outputs": [
    {
     "name": "stdout",
     "output_type": "stream",
     "text": [
      "201606scripts_sample.csv.gz  chem.csv.gz\r\n",
      "201701scripts_sample.csv.gz  practices.csv.gz\r\n"
     ]
    }
   ],
   "source": [
    "!dir dw-data"
   ]
  },
  {
   "cell_type": "code",
   "execution_count": 6,
   "metadata": {},
   "outputs": [
    {
     "data": {
      "text/html": [
       "<div>\n",
       "<style scoped>\n",
       "    .dataframe tbody tr th:only-of-type {\n",
       "        vertical-align: middle;\n",
       "    }\n",
       "\n",
       "    .dataframe tbody tr th {\n",
       "        vertical-align: top;\n",
       "    }\n",
       "\n",
       "    .dataframe thead th {\n",
       "        text-align: right;\n",
       "    }\n",
       "</style>\n",
       "<table border=\"1\" class=\"dataframe\">\n",
       "  <thead>\n",
       "    <tr style=\"text-align: right;\">\n",
       "      <th></th>\n",
       "      <th>practice</th>\n",
       "      <th>bnf_code</th>\n",
       "      <th>bnf_name</th>\n",
       "      <th>items</th>\n",
       "      <th>nic</th>\n",
       "      <th>act_cost</th>\n",
       "      <th>quantity</th>\n",
       "    </tr>\n",
       "  </thead>\n",
       "  <tbody>\n",
       "    <tr>\n",
       "      <th>0</th>\n",
       "      <td>N85639</td>\n",
       "      <td>0106020C0</td>\n",
       "      <td>Bisacodyl_Tab E/C 5mg</td>\n",
       "      <td>1</td>\n",
       "      <td>0.39</td>\n",
       "      <td>0.47</td>\n",
       "      <td>12</td>\n",
       "    </tr>\n",
       "    <tr>\n",
       "      <th>1</th>\n",
       "      <td>N85639</td>\n",
       "      <td>0106040M0</td>\n",
       "      <td>Movicol Plain_Paed Pdr Sach 6.9g</td>\n",
       "      <td>1</td>\n",
       "      <td>4.38</td>\n",
       "      <td>4.07</td>\n",
       "      <td>30</td>\n",
       "    </tr>\n",
       "    <tr>\n",
       "      <th>2</th>\n",
       "      <td>N85639</td>\n",
       "      <td>0301011R0</td>\n",
       "      <td>Salbutamol_Inha 100mcg (200 D) CFF</td>\n",
       "      <td>1</td>\n",
       "      <td>1.50</td>\n",
       "      <td>1.40</td>\n",
       "      <td>1</td>\n",
       "    </tr>\n",
       "    <tr>\n",
       "      <th>3</th>\n",
       "      <td>N85639</td>\n",
       "      <td>0304010G0</td>\n",
       "      <td>Chlorphenamine Mal_Oral Soln 2mg/5ml</td>\n",
       "      <td>1</td>\n",
       "      <td>2.62</td>\n",
       "      <td>2.44</td>\n",
       "      <td>150</td>\n",
       "    </tr>\n",
       "    <tr>\n",
       "      <th>4</th>\n",
       "      <td>N85639</td>\n",
       "      <td>0401020K0</td>\n",
       "      <td>Diazepam_Tab 2mg</td>\n",
       "      <td>1</td>\n",
       "      <td>0.16</td>\n",
       "      <td>0.26</td>\n",
       "      <td>6</td>\n",
       "    </tr>\n",
       "  </tbody>\n",
       "</table>\n",
       "</div>"
      ],
      "text/plain": [
       "  practice   bnf_code                              bnf_name  items   nic  \\\n",
       "0   N85639  0106020C0                 Bisacodyl_Tab E/C 5mg      1  0.39   \n",
       "1   N85639  0106040M0      Movicol Plain_Paed Pdr Sach 6.9g      1  4.38   \n",
       "2   N85639  0301011R0    Salbutamol_Inha 100mcg (200 D) CFF      1  1.50   \n",
       "3   N85639  0304010G0  Chlorphenamine Mal_Oral Soln 2mg/5ml      1  2.62   \n",
       "4   N85639  0401020K0                      Diazepam_Tab 2mg      1  0.16   \n",
       "\n",
       "   act_cost  quantity  \n",
       "0      0.47        12  \n",
       "1      4.07        30  \n",
       "2      1.40         1  \n",
       "3      2.44       150  \n",
       "4      0.26         6  "
      ]
     },
     "execution_count": 6,
     "metadata": {},
     "output_type": "execute_result"
    }
   ],
   "source": [
    "# load the 2017 data\n",
    "with gzip.open('./dw-data/201701scripts_sample.csv.gz', 'rb') as f:\n",
    "    scripts = pd.read_csv(f)\n",
    "scripts.head()"
   ]
  },
  {
   "cell_type": "code",
   "execution_count": 7,
   "metadata": {},
   "outputs": [
    {
     "data": {
      "text/html": [
       "<div>\n",
       "<style scoped>\n",
       "    .dataframe tbody tr th:only-of-type {\n",
       "        vertical-align: middle;\n",
       "    }\n",
       "\n",
       "    .dataframe tbody tr th {\n",
       "        vertical-align: top;\n",
       "    }\n",
       "\n",
       "    .dataframe thead th {\n",
       "        text-align: right;\n",
       "    }\n",
       "</style>\n",
       "<table border=\"1\" class=\"dataframe\">\n",
       "  <thead>\n",
       "    <tr style=\"text-align: right;\">\n",
       "      <th></th>\n",
       "      <th>code</th>\n",
       "      <th>name</th>\n",
       "      <th>addr_1</th>\n",
       "      <th>addr_2</th>\n",
       "      <th>borough</th>\n",
       "      <th>village</th>\n",
       "      <th>post_code</th>\n",
       "    </tr>\n",
       "  </thead>\n",
       "  <tbody>\n",
       "    <tr>\n",
       "      <th>0</th>\n",
       "      <td>A81001</td>\n",
       "      <td>THE DENSHAM SURGERY</td>\n",
       "      <td>THE HEALTH CENTRE</td>\n",
       "      <td>LAWSON STREET</td>\n",
       "      <td>STOCKTON ON TEES</td>\n",
       "      <td>CLEVELAND</td>\n",
       "      <td>TS18 1HU</td>\n",
       "    </tr>\n",
       "    <tr>\n",
       "      <th>1</th>\n",
       "      <td>A81002</td>\n",
       "      <td>QUEENS PARK MEDICAL CENTRE</td>\n",
       "      <td>QUEENS PARK MEDICAL CTR</td>\n",
       "      <td>FARRER STREET</td>\n",
       "      <td>STOCKTON ON TEES</td>\n",
       "      <td>CLEVELAND</td>\n",
       "      <td>TS18 2AW</td>\n",
       "    </tr>\n",
       "    <tr>\n",
       "      <th>2</th>\n",
       "      <td>A81003</td>\n",
       "      <td>VICTORIA MEDICAL PRACTICE</td>\n",
       "      <td>THE HEALTH CENTRE</td>\n",
       "      <td>VICTORIA ROAD</td>\n",
       "      <td>HARTLEPOOL</td>\n",
       "      <td>CLEVELAND</td>\n",
       "      <td>TS26 8DB</td>\n",
       "    </tr>\n",
       "    <tr>\n",
       "      <th>3</th>\n",
       "      <td>A81004</td>\n",
       "      <td>WOODLANDS ROAD SURGERY</td>\n",
       "      <td>6 WOODLANDS ROAD</td>\n",
       "      <td>NaN</td>\n",
       "      <td>MIDDLESBROUGH</td>\n",
       "      <td>CLEVELAND</td>\n",
       "      <td>TS1 3BE</td>\n",
       "    </tr>\n",
       "    <tr>\n",
       "      <th>4</th>\n",
       "      <td>A81005</td>\n",
       "      <td>SPRINGWOOD SURGERY</td>\n",
       "      <td>SPRINGWOOD SURGERY</td>\n",
       "      <td>RECTORY LANE</td>\n",
       "      <td>GUISBOROUGH</td>\n",
       "      <td>NaN</td>\n",
       "      <td>TS14 7DJ</td>\n",
       "    </tr>\n",
       "  </tbody>\n",
       "</table>\n",
       "</div>"
      ],
      "text/plain": [
       "     code                        name                   addr_1         addr_2  \\\n",
       "0  A81001         THE DENSHAM SURGERY        THE HEALTH CENTRE  LAWSON STREET   \n",
       "1  A81002  QUEENS PARK MEDICAL CENTRE  QUEENS PARK MEDICAL CTR  FARRER STREET   \n",
       "2  A81003   VICTORIA MEDICAL PRACTICE        THE HEALTH CENTRE  VICTORIA ROAD   \n",
       "3  A81004      WOODLANDS ROAD SURGERY         6 WOODLANDS ROAD            NaN   \n",
       "4  A81005          SPRINGWOOD SURGERY       SPRINGWOOD SURGERY   RECTORY LANE   \n",
       "\n",
       "            borough    village post_code  \n",
       "0  STOCKTON ON TEES  CLEVELAND  TS18 1HU  \n",
       "1  STOCKTON ON TEES  CLEVELAND  TS18 2AW  \n",
       "2        HARTLEPOOL  CLEVELAND  TS26 8DB  \n",
       "3     MIDDLESBROUGH  CLEVELAND   TS1 3BE  \n",
       "4       GUISBOROUGH        NaN  TS14 7DJ  "
      ]
     },
     "execution_count": 7,
     "metadata": {},
     "output_type": "execute_result"
    }
   ],
   "source": [
    "col_names=[ 'code', 'name', 'addr_1', 'addr_2', 'borough', 'village', 'post_code']\n",
    "with gzip.open('./dw-data/practices.csv.gz', 'rb') as p:\n",
    "    practices = pd.read_csv(p, names=col_names)\n",
    "practices.head()"
   ]
  },
  {
   "cell_type": "code",
   "execution_count": 8,
   "metadata": {},
   "outputs": [
    {
     "data": {
      "text/html": [
       "<div>\n",
       "<style scoped>\n",
       "    .dataframe tbody tr th:only-of-type {\n",
       "        vertical-align: middle;\n",
       "    }\n",
       "\n",
       "    .dataframe tbody tr th {\n",
       "        vertical-align: top;\n",
       "    }\n",
       "\n",
       "    .dataframe thead th {\n",
       "        text-align: right;\n",
       "    }\n",
       "</style>\n",
       "<table border=\"1\" class=\"dataframe\">\n",
       "  <thead>\n",
       "    <tr style=\"text-align: right;\">\n",
       "      <th></th>\n",
       "      <th>CHEM SUB</th>\n",
       "      <th>NAME</th>\n",
       "    </tr>\n",
       "  </thead>\n",
       "  <tbody>\n",
       "    <tr>\n",
       "      <th>0</th>\n",
       "      <td>0101010A0</td>\n",
       "      <td>Alexitol Sodium</td>\n",
       "    </tr>\n",
       "    <tr>\n",
       "      <th>1</th>\n",
       "      <td>0101010B0</td>\n",
       "      <td>Almasilate</td>\n",
       "    </tr>\n",
       "    <tr>\n",
       "      <th>2</th>\n",
       "      <td>0101010C0</td>\n",
       "      <td>Aluminium Hydroxide</td>\n",
       "    </tr>\n",
       "    <tr>\n",
       "      <th>3</th>\n",
       "      <td>0101010D0</td>\n",
       "      <td>Aluminium Hydroxide With Magnesium</td>\n",
       "    </tr>\n",
       "    <tr>\n",
       "      <th>4</th>\n",
       "      <td>0101010E0</td>\n",
       "      <td>Hydrotalcite</td>\n",
       "    </tr>\n",
       "  </tbody>\n",
       "</table>\n",
       "</div>"
      ],
      "text/plain": [
       "    CHEM SUB                                NAME\n",
       "0  0101010A0                     Alexitol Sodium\n",
       "1  0101010B0                          Almasilate\n",
       "2  0101010C0                 Aluminium Hydroxide\n",
       "3  0101010D0  Aluminium Hydroxide With Magnesium\n",
       "4  0101010E0                        Hydrotalcite"
      ]
     },
     "execution_count": 8,
     "metadata": {},
     "output_type": "execute_result"
    }
   ],
   "source": [
    "with gzip.open('./dw-data/chem.csv.gz', 'rb') as ch:\n",
    "    chem = pd.read_csv(ch)\n",
    "chem.head()"
   ]
  },
  {
   "cell_type": "markdown",
   "metadata": {},
   "source": [
    "Now that we've loaded in the data, let's first replicate our results from the `PW` miniproject. Note that we are now working with a larger data set so the answers will be different than in the `PW` miniproject even if the analysis is the same."
   ]
  },
  {
   "cell_type": "markdown",
   "metadata": {},
   "source": [
    "## Question 1: summary_statistics\n",
    "\n",
    "In the `PW` miniproject we first calculated the total, mean, standard deviation, and quartile statistics of the `'items'`, `'quantity'`', `'nic'`, and `'act_cost'` fields. To do this we had to write some functions to calculate the statistics and apply the functions to our data structure. The DataFrame has a `describe` method that will calculate most (not all) of these things for us.\n",
    "\n",
    "Submit the summary statistics to the grader as a list of tuples: [('act_cost', (total, mean, std, q25, median, q75)), ...]"
   ]
  },
  {
   "cell_type": "code",
   "execution_count": 11,
   "metadata": {
    "scrolled": false
   },
   "outputs": [
    {
     "data": {
      "text/html": [
       "<div>\n",
       "<style scoped>\n",
       "    .dataframe tbody tr th:only-of-type {\n",
       "        vertical-align: middle;\n",
       "    }\n",
       "\n",
       "    .dataframe tbody tr th {\n",
       "        vertical-align: top;\n",
       "    }\n",
       "\n",
       "    .dataframe thead th {\n",
       "        text-align: right;\n",
       "    }\n",
       "</style>\n",
       "<table border=\"1\" class=\"dataframe\">\n",
       "  <thead>\n",
       "    <tr style=\"text-align: right;\">\n",
       "      <th></th>\n",
       "      <th>items</th>\n",
       "      <th>nic</th>\n",
       "      <th>act_cost</th>\n",
       "      <th>quantity</th>\n",
       "    </tr>\n",
       "  </thead>\n",
       "  <tbody>\n",
       "    <tr>\n",
       "      <th>count</th>\n",
       "      <td>973193.000000</td>\n",
       "      <td>973193.000000</td>\n",
       "      <td>973193.000000</td>\n",
       "      <td>973193.000000</td>\n",
       "    </tr>\n",
       "    <tr>\n",
       "      <th>mean</th>\n",
       "      <td>9.133136</td>\n",
       "      <td>73.058915</td>\n",
       "      <td>67.986613</td>\n",
       "      <td>741.329835</td>\n",
       "    </tr>\n",
       "    <tr>\n",
       "      <th>std</th>\n",
       "      <td>29.204198</td>\n",
       "      <td>188.070257</td>\n",
       "      <td>174.401703</td>\n",
       "      <td>3665.426958</td>\n",
       "    </tr>\n",
       "    <tr>\n",
       "      <th>min</th>\n",
       "      <td>1.000000</td>\n",
       "      <td>0.000000</td>\n",
       "      <td>0.040000</td>\n",
       "      <td>0.000000</td>\n",
       "    </tr>\n",
       "    <tr>\n",
       "      <th>25%</th>\n",
       "      <td>1.000000</td>\n",
       "      <td>7.800000</td>\n",
       "      <td>7.330000</td>\n",
       "      <td>28.000000</td>\n",
       "    </tr>\n",
       "    <tr>\n",
       "      <th>50%</th>\n",
       "      <td>2.000000</td>\n",
       "      <td>22.640000</td>\n",
       "      <td>21.220000</td>\n",
       "      <td>100.000000</td>\n",
       "    </tr>\n",
       "    <tr>\n",
       "      <th>75%</th>\n",
       "      <td>6.000000</td>\n",
       "      <td>65.000000</td>\n",
       "      <td>60.670000</td>\n",
       "      <td>350.000000</td>\n",
       "    </tr>\n",
       "    <tr>\n",
       "      <th>max</th>\n",
       "      <td>2384.000000</td>\n",
       "      <td>16320.000000</td>\n",
       "      <td>15108.320000</td>\n",
       "      <td>577720.000000</td>\n",
       "    </tr>\n",
       "  </tbody>\n",
       "</table>\n",
       "</div>"
      ],
      "text/plain": [
       "               items            nic       act_cost       quantity\n",
       "count  973193.000000  973193.000000  973193.000000  973193.000000\n",
       "mean        9.133136      73.058915      67.986613     741.329835\n",
       "std        29.204198     188.070257     174.401703    3665.426958\n",
       "min         1.000000       0.000000       0.040000       0.000000\n",
       "25%         1.000000       7.800000       7.330000      28.000000\n",
       "50%         2.000000      22.640000      21.220000     100.000000\n",
       "75%         6.000000      65.000000      60.670000     350.000000\n",
       "max      2384.000000   16320.000000   15108.320000  577720.000000"
      ]
     },
     "execution_count": 11,
     "metadata": {},
     "output_type": "execute_result"
    }
   ],
   "source": [
    "scripts.describe()"
   ]
  },
  {
   "cell_type": "code",
   "execution_count": 12,
   "metadata": {},
   "outputs": [
    {
     "data": {
      "text/plain": [
       "9.133135976111625"
      ]
     },
     "execution_count": 12,
     "metadata": {},
     "output_type": "execute_result"
    }
   ],
   "source": [
    "scripts['items'].mean()"
   ]
  },
  {
   "cell_type": "code",
   "execution_count": 13,
   "metadata": {},
   "outputs": [
    {
     "data": {
      "text/plain": [
       "8888304"
      ]
     },
     "execution_count": 13,
     "metadata": {},
     "output_type": "execute_result"
    }
   ],
   "source": [
    "scripts['items'].sum()"
   ]
  },
  {
   "cell_type": "code",
   "execution_count": 14,
   "metadata": {},
   "outputs": [
    {
     "data": {
      "text/plain": [
       "29.204198282803603"
      ]
     },
     "execution_count": 14,
     "metadata": {},
     "output_type": "execute_result"
    }
   ],
   "source": [
    "scripts['items'].std()"
   ]
  },
  {
   "cell_type": "code",
   "execution_count": 15,
   "metadata": {},
   "outputs": [
    {
     "data": {
      "text/plain": [
       "1.0"
      ]
     },
     "execution_count": 15,
     "metadata": {},
     "output_type": "execute_result"
    }
   ],
   "source": [
    "scripts['items'].quantile(0.25)"
   ]
  },
  {
   "cell_type": "code",
   "execution_count": 16,
   "metadata": {},
   "outputs": [],
   "source": [
    "def describe(df, key):\n",
    "    desc = df[key].describe()\n",
    "    return (df[key].sum(), desc['mean'], desc['std'], desc['25%'], desc['50%'], desc['75%'])"
   ]
  },
  {
   "cell_type": "code",
   "execution_count": 17,
   "metadata": {},
   "outputs": [],
   "source": [
    "summary_stats = [('items', describe(scripts, 'items')),\n",
    "                 ('quantity', describe(scripts, 'quantity')),\n",
    "                 ('nic', describe(scripts, 'nic')),\n",
    "                 ('act_cost', describe(scripts, 'act_cost'))]"
   ]
  },
  {
   "cell_type": "code",
   "execution_count": 18,
   "metadata": {
    "scrolled": true
   },
   "outputs": [
    {
     "name": "stdout",
     "output_type": "stream",
     "text": [
      "==================\n",
      "Your score:  1.0\n",
      "==================\n"
     ]
    }
   ],
   "source": [
    "grader.score.dw__summary_statistics(summary_stats)"
   ]
  },
  {
   "cell_type": "markdown",
   "metadata": {},
   "source": [
    "\n",
    "# Question 2: most_common_item\n",
    "\n",
    "We can also easily compute summary statistics on groups within the data. In the pw miniproject we had to explicitly construct the groups based on the values of a particular field. Pandas will handle that for us via the groupby method. This process is detailed in the Pandas documentation.\n",
    "\n",
    "Use groupby to calculate the total number of items dispensed for each `bnf_name`. Find the item with the highest total and return the result as `[(bnf_name, total)]`.\n"
   ]
  },
  {
   "cell_type": "code",
   "execution_count": 19,
   "metadata": {},
   "outputs": [],
   "source": [
    "total_items_despensed = scripts.groupby(['bnf_name'])['items'].sum()"
   ]
  },
  {
   "cell_type": "code",
   "execution_count": 20,
   "metadata": {},
   "outputs": [
    {
     "data": {
      "text/plain": [
       "bnf_name\n",
       "365 Film 10cm x 12cm VP Adh Film Dress      2\n",
       "365 Non Adherent 10cm x 10cm Pfa Plas Fa    3\n",
       "365 Non Adherent 10cm x 20cm Pfa Plas Fa    1\n",
       "365 Non Woven Island 8cm x 10cm Adh Dres    1\n",
       "365 Transpt Island 5cm x 7.2cm VP Adh Fi    2\n",
       "Name: items, dtype: int64"
      ]
     },
     "execution_count": 20,
     "metadata": {},
     "output_type": "execute_result"
    }
   ],
   "source": [
    "total_items_despensed.iloc[:5]"
   ]
  },
  {
   "cell_type": "code",
   "execution_count": 21,
   "metadata": {},
   "outputs": [
    {
     "data": {
      "text/plain": [
       "218583"
      ]
     },
     "execution_count": 21,
     "metadata": {},
     "output_type": "execute_result"
    }
   ],
   "source": [
    "total_items_despensed.max()"
   ]
  },
  {
   "cell_type": "code",
   "execution_count": 22,
   "metadata": {},
   "outputs": [
    {
     "data": {
      "text/plain": [
       "'Omeprazole_Cap E/C 20mg'"
      ]
     },
     "execution_count": 22,
     "metadata": {},
     "output_type": "execute_result"
    }
   ],
   "source": [
    "total_items_despensed.idxmax()"
   ]
  },
  {
   "cell_type": "code",
   "execution_count": 23,
   "metadata": {},
   "outputs": [
    {
     "data": {
      "text/plain": [
       "('Omeprazole_Cap E/C 20mg', 218583)"
      ]
     },
     "execution_count": 23,
     "metadata": {},
     "output_type": "execute_result"
    }
   ],
   "source": [
    "total_items_despensed.idxmax(), total_items_despensed.max()"
   ]
  },
  {
   "cell_type": "code",
   "execution_count": 24,
   "metadata": {},
   "outputs": [],
   "source": [
    "most_common_item = [(total_items_despensed.idxmax(), total_items_despensed.max())]"
   ]
  },
  {
   "cell_type": "code",
   "execution_count": 25,
   "metadata": {},
   "outputs": [
    {
     "name": "stdout",
     "output_type": "stream",
     "text": [
      "==================\n",
      "Your score:  1.0\n",
      "==================\n"
     ]
    }
   ],
   "source": [
    "grader.score.dw__most_common_item(most_common_item)"
   ]
  },
  {
   "cell_type": "markdown",
   "metadata": {},
   "source": [
    "## Question 3: items_by_region\n",
    "\n",
    "Now let's find the most common item by post code. The post code information is in the `practices` DataFrame, and we'll need to `merge` it into the `scripts` DataFrame. Pandas provides [extensive documentation](https://pandas.pydata.org/pandas-docs/stable/merging.html) with diagrammed examples on different methods and approaches for joining data. The `merge` method is only one of many possible options.\n",
    "\n",
    "Return your results as a list of tuples `(post code, item name, amount dispensed as % of total)`. Sort your results ascending alphabetically by post code and take only results from the first 100 post codes.\n",
    "\n",
    "**NOTE:** Some practices have multiple postal codes associated with them. Use the alphabetically first postal code. Note some postal codes may have multiple `'bnf_name'` with the same prescription rate for the maximum. In this case, take the alphabetically first `'bnf_name'` (as in the PW miniproject)."
   ]
  },
  {
   "cell_type": "code",
   "execution_count": 26,
   "metadata": {},
   "outputs": [
    {
     "data": {
      "text/html": [
       "<div>\n",
       "<style scoped>\n",
       "    .dataframe tbody tr th:only-of-type {\n",
       "        vertical-align: middle;\n",
       "    }\n",
       "\n",
       "    .dataframe tbody tr th {\n",
       "        vertical-align: top;\n",
       "    }\n",
       "\n",
       "    .dataframe thead th {\n",
       "        text-align: right;\n",
       "    }\n",
       "</style>\n",
       "<table border=\"1\" class=\"dataframe\">\n",
       "  <thead>\n",
       "    <tr style=\"text-align: right;\">\n",
       "      <th></th>\n",
       "      <th>practice</th>\n",
       "      <th>bnf_code</th>\n",
       "      <th>bnf_name</th>\n",
       "      <th>items</th>\n",
       "      <th>nic</th>\n",
       "      <th>act_cost</th>\n",
       "      <th>quantity</th>\n",
       "    </tr>\n",
       "  </thead>\n",
       "  <tbody>\n",
       "    <tr>\n",
       "      <th>0</th>\n",
       "      <td>N85639</td>\n",
       "      <td>0106020C0</td>\n",
       "      <td>Bisacodyl_Tab E/C 5mg</td>\n",
       "      <td>1</td>\n",
       "      <td>0.39</td>\n",
       "      <td>0.47</td>\n",
       "      <td>12</td>\n",
       "    </tr>\n",
       "    <tr>\n",
       "      <th>1</th>\n",
       "      <td>N85639</td>\n",
       "      <td>0106040M0</td>\n",
       "      <td>Movicol Plain_Paed Pdr Sach 6.9g</td>\n",
       "      <td>1</td>\n",
       "      <td>4.38</td>\n",
       "      <td>4.07</td>\n",
       "      <td>30</td>\n",
       "    </tr>\n",
       "    <tr>\n",
       "      <th>2</th>\n",
       "      <td>N85639</td>\n",
       "      <td>0301011R0</td>\n",
       "      <td>Salbutamol_Inha 100mcg (200 D) CFF</td>\n",
       "      <td>1</td>\n",
       "      <td>1.50</td>\n",
       "      <td>1.40</td>\n",
       "      <td>1</td>\n",
       "    </tr>\n",
       "    <tr>\n",
       "      <th>3</th>\n",
       "      <td>N85639</td>\n",
       "      <td>0304010G0</td>\n",
       "      <td>Chlorphenamine Mal_Oral Soln 2mg/5ml</td>\n",
       "      <td>1</td>\n",
       "      <td>2.62</td>\n",
       "      <td>2.44</td>\n",
       "      <td>150</td>\n",
       "    </tr>\n",
       "    <tr>\n",
       "      <th>4</th>\n",
       "      <td>N85639</td>\n",
       "      <td>0401020K0</td>\n",
       "      <td>Diazepam_Tab 2mg</td>\n",
       "      <td>1</td>\n",
       "      <td>0.16</td>\n",
       "      <td>0.26</td>\n",
       "      <td>6</td>\n",
       "    </tr>\n",
       "  </tbody>\n",
       "</table>\n",
       "</div>"
      ],
      "text/plain": [
       "  practice   bnf_code                              bnf_name  items   nic  \\\n",
       "0   N85639  0106020C0                 Bisacodyl_Tab E/C 5mg      1  0.39   \n",
       "1   N85639  0106040M0      Movicol Plain_Paed Pdr Sach 6.9g      1  4.38   \n",
       "2   N85639  0301011R0    Salbutamol_Inha 100mcg (200 D) CFF      1  1.50   \n",
       "3   N85639  0304010G0  Chlorphenamine Mal_Oral Soln 2mg/5ml      1  2.62   \n",
       "4   N85639  0401020K0                      Diazepam_Tab 2mg      1  0.16   \n",
       "\n",
       "   act_cost  quantity  \n",
       "0      0.47        12  \n",
       "1      4.07        30  \n",
       "2      1.40         1  \n",
       "3      2.44       150  \n",
       "4      0.26         6  "
      ]
     },
     "execution_count": 26,
     "metadata": {},
     "output_type": "execute_result"
    }
   ],
   "source": [
    "scripts.head()"
   ]
  },
  {
   "cell_type": "code",
   "execution_count": 27,
   "metadata": {
    "scrolled": true
   },
   "outputs": [
    {
     "data": {
      "text/html": [
       "<div>\n",
       "<style scoped>\n",
       "    .dataframe tbody tr th:only-of-type {\n",
       "        vertical-align: middle;\n",
       "    }\n",
       "\n",
       "    .dataframe tbody tr th {\n",
       "        vertical-align: top;\n",
       "    }\n",
       "\n",
       "    .dataframe thead th {\n",
       "        text-align: right;\n",
       "    }\n",
       "</style>\n",
       "<table border=\"1\" class=\"dataframe\">\n",
       "  <thead>\n",
       "    <tr style=\"text-align: right;\">\n",
       "      <th></th>\n",
       "      <th>code</th>\n",
       "      <th>name</th>\n",
       "      <th>addr_1</th>\n",
       "      <th>addr_2</th>\n",
       "      <th>borough</th>\n",
       "      <th>village</th>\n",
       "      <th>post_code</th>\n",
       "    </tr>\n",
       "  </thead>\n",
       "  <tbody>\n",
       "    <tr>\n",
       "      <th>0</th>\n",
       "      <td>A81001</td>\n",
       "      <td>THE DENSHAM SURGERY</td>\n",
       "      <td>THE HEALTH CENTRE</td>\n",
       "      <td>LAWSON STREET</td>\n",
       "      <td>STOCKTON ON TEES</td>\n",
       "      <td>CLEVELAND</td>\n",
       "      <td>TS18 1HU</td>\n",
       "    </tr>\n",
       "    <tr>\n",
       "      <th>1</th>\n",
       "      <td>A81002</td>\n",
       "      <td>QUEENS PARK MEDICAL CENTRE</td>\n",
       "      <td>QUEENS PARK MEDICAL CTR</td>\n",
       "      <td>FARRER STREET</td>\n",
       "      <td>STOCKTON ON TEES</td>\n",
       "      <td>CLEVELAND</td>\n",
       "      <td>TS18 2AW</td>\n",
       "    </tr>\n",
       "    <tr>\n",
       "      <th>2</th>\n",
       "      <td>A81003</td>\n",
       "      <td>VICTORIA MEDICAL PRACTICE</td>\n",
       "      <td>THE HEALTH CENTRE</td>\n",
       "      <td>VICTORIA ROAD</td>\n",
       "      <td>HARTLEPOOL</td>\n",
       "      <td>CLEVELAND</td>\n",
       "      <td>TS26 8DB</td>\n",
       "    </tr>\n",
       "    <tr>\n",
       "      <th>3</th>\n",
       "      <td>A81004</td>\n",
       "      <td>WOODLANDS ROAD SURGERY</td>\n",
       "      <td>6 WOODLANDS ROAD</td>\n",
       "      <td>NaN</td>\n",
       "      <td>MIDDLESBROUGH</td>\n",
       "      <td>CLEVELAND</td>\n",
       "      <td>TS1 3BE</td>\n",
       "    </tr>\n",
       "    <tr>\n",
       "      <th>4</th>\n",
       "      <td>A81005</td>\n",
       "      <td>SPRINGWOOD SURGERY</td>\n",
       "      <td>SPRINGWOOD SURGERY</td>\n",
       "      <td>RECTORY LANE</td>\n",
       "      <td>GUISBOROUGH</td>\n",
       "      <td>NaN</td>\n",
       "      <td>TS14 7DJ</td>\n",
       "    </tr>\n",
       "  </tbody>\n",
       "</table>\n",
       "</div>"
      ],
      "text/plain": [
       "     code                        name                   addr_1         addr_2  \\\n",
       "0  A81001         THE DENSHAM SURGERY        THE HEALTH CENTRE  LAWSON STREET   \n",
       "1  A81002  QUEENS PARK MEDICAL CENTRE  QUEENS PARK MEDICAL CTR  FARRER STREET   \n",
       "2  A81003   VICTORIA MEDICAL PRACTICE        THE HEALTH CENTRE  VICTORIA ROAD   \n",
       "3  A81004      WOODLANDS ROAD SURGERY         6 WOODLANDS ROAD            NaN   \n",
       "4  A81005          SPRINGWOOD SURGERY       SPRINGWOOD SURGERY   RECTORY LANE   \n",
       "\n",
       "            borough    village post_code  \n",
       "0  STOCKTON ON TEES  CLEVELAND  TS18 1HU  \n",
       "1  STOCKTON ON TEES  CLEVELAND  TS18 2AW  \n",
       "2        HARTLEPOOL  CLEVELAND  TS26 8DB  \n",
       "3     MIDDLESBROUGH  CLEVELAND   TS1 3BE  \n",
       "4       GUISBOROUGH        NaN  TS14 7DJ  "
      ]
     },
     "execution_count": 27,
     "metadata": {},
     "output_type": "execute_result"
    }
   ],
   "source": [
    "practices.head()"
   ]
  },
  {
   "cell_type": "code",
   "execution_count": 28,
   "metadata": {},
   "outputs": [
    {
     "data": {
      "text/plain": [
       "(12020, 7)"
      ]
     },
     "execution_count": 28,
     "metadata": {},
     "output_type": "execute_result"
    }
   ],
   "source": [
    "practices.shape"
   ]
  },
  {
   "cell_type": "code",
   "execution_count": 29,
   "metadata": {},
   "outputs": [
    {
     "data": {
      "text/html": [
       "<div>\n",
       "<style scoped>\n",
       "    .dataframe tbody tr th:only-of-type {\n",
       "        vertical-align: middle;\n",
       "    }\n",
       "\n",
       "    .dataframe tbody tr th {\n",
       "        vertical-align: top;\n",
       "    }\n",
       "\n",
       "    .dataframe thead th {\n",
       "        text-align: right;\n",
       "    }\n",
       "</style>\n",
       "<table border=\"1\" class=\"dataframe\">\n",
       "  <thead>\n",
       "    <tr style=\"text-align: right;\">\n",
       "      <th></th>\n",
       "      <th>code</th>\n",
       "      <th>post_code</th>\n",
       "    </tr>\n",
       "  </thead>\n",
       "  <tbody>\n",
       "    <tr>\n",
       "      <th>0</th>\n",
       "      <td>A81001</td>\n",
       "      <td>TS18 1HU</td>\n",
       "    </tr>\n",
       "    <tr>\n",
       "      <th>1</th>\n",
       "      <td>A81002</td>\n",
       "      <td>TS18 2AW</td>\n",
       "    </tr>\n",
       "    <tr>\n",
       "      <th>2</th>\n",
       "      <td>A81003</td>\n",
       "      <td>TS25 1QU</td>\n",
       "    </tr>\n",
       "    <tr>\n",
       "      <th>3</th>\n",
       "      <td>A81004</td>\n",
       "      <td>TS1 3BE</td>\n",
       "    </tr>\n",
       "    <tr>\n",
       "      <th>4</th>\n",
       "      <td>A81005</td>\n",
       "      <td>TS14 7DJ</td>\n",
       "    </tr>\n",
       "  </tbody>\n",
       "</table>\n",
       "</div>"
      ],
      "text/plain": [
       "     code post_code\n",
       "0  A81001  TS18 1HU\n",
       "1  A81002  TS18 2AW\n",
       "2  A81003  TS25 1QU\n",
       "3  A81004   TS1 3BE\n",
       "4  A81005  TS14 7DJ"
      ]
     },
     "execution_count": 29,
     "metadata": {},
     "output_type": "execute_result"
    }
   ],
   "source": [
    "practice_postal = practices.groupby('code')['post_code'].min().reset_index()\n",
    "practice_postal.head()"
   ]
  },
  {
   "cell_type": "code",
   "execution_count": 30,
   "metadata": {},
   "outputs": [
    {
     "data": {
      "text/html": [
       "<div>\n",
       "<style scoped>\n",
       "    .dataframe tbody tr th:only-of-type {\n",
       "        vertical-align: middle;\n",
       "    }\n",
       "\n",
       "    .dataframe tbody tr th {\n",
       "        vertical-align: top;\n",
       "    }\n",
       "\n",
       "    .dataframe thead th {\n",
       "        text-align: right;\n",
       "    }\n",
       "</style>\n",
       "<table border=\"1\" class=\"dataframe\">\n",
       "  <thead>\n",
       "    <tr style=\"text-align: right;\">\n",
       "      <th></th>\n",
       "      <th>practice</th>\n",
       "      <th>bnf_code</th>\n",
       "      <th>bnf_name</th>\n",
       "      <th>items</th>\n",
       "      <th>nic</th>\n",
       "      <th>act_cost</th>\n",
       "      <th>quantity</th>\n",
       "      <th>code</th>\n",
       "      <th>post_code</th>\n",
       "    </tr>\n",
       "  </thead>\n",
       "  <tbody>\n",
       "    <tr>\n",
       "      <th>0</th>\n",
       "      <td>N85639</td>\n",
       "      <td>0106020C0</td>\n",
       "      <td>Bisacodyl_Tab E/C 5mg</td>\n",
       "      <td>1</td>\n",
       "      <td>0.39</td>\n",
       "      <td>0.47</td>\n",
       "      <td>12</td>\n",
       "      <td>N85639</td>\n",
       "      <td>CH44 5UF</td>\n",
       "    </tr>\n",
       "    <tr>\n",
       "      <th>1</th>\n",
       "      <td>N85639</td>\n",
       "      <td>0106040M0</td>\n",
       "      <td>Movicol Plain_Paed Pdr Sach 6.9g</td>\n",
       "      <td>1</td>\n",
       "      <td>4.38</td>\n",
       "      <td>4.07</td>\n",
       "      <td>30</td>\n",
       "      <td>N85639</td>\n",
       "      <td>CH44 5UF</td>\n",
       "    </tr>\n",
       "    <tr>\n",
       "      <th>2</th>\n",
       "      <td>N85639</td>\n",
       "      <td>0301011R0</td>\n",
       "      <td>Salbutamol_Inha 100mcg (200 D) CFF</td>\n",
       "      <td>1</td>\n",
       "      <td>1.50</td>\n",
       "      <td>1.40</td>\n",
       "      <td>1</td>\n",
       "      <td>N85639</td>\n",
       "      <td>CH44 5UF</td>\n",
       "    </tr>\n",
       "    <tr>\n",
       "      <th>3</th>\n",
       "      <td>N85639</td>\n",
       "      <td>0304010G0</td>\n",
       "      <td>Chlorphenamine Mal_Oral Soln 2mg/5ml</td>\n",
       "      <td>1</td>\n",
       "      <td>2.62</td>\n",
       "      <td>2.44</td>\n",
       "      <td>150</td>\n",
       "      <td>N85639</td>\n",
       "      <td>CH44 5UF</td>\n",
       "    </tr>\n",
       "    <tr>\n",
       "      <th>4</th>\n",
       "      <td>N85639</td>\n",
       "      <td>0401020K0</td>\n",
       "      <td>Diazepam_Tab 2mg</td>\n",
       "      <td>1</td>\n",
       "      <td>0.16</td>\n",
       "      <td>0.26</td>\n",
       "      <td>6</td>\n",
       "      <td>N85639</td>\n",
       "      <td>CH44 5UF</td>\n",
       "    </tr>\n",
       "  </tbody>\n",
       "</table>\n",
       "</div>"
      ],
      "text/plain": [
       "  practice   bnf_code                              bnf_name  items   nic  \\\n",
       "0   N85639  0106020C0                 Bisacodyl_Tab E/C 5mg      1  0.39   \n",
       "1   N85639  0106040M0      Movicol Plain_Paed Pdr Sach 6.9g      1  4.38   \n",
       "2   N85639  0301011R0    Salbutamol_Inha 100mcg (200 D) CFF      1  1.50   \n",
       "3   N85639  0304010G0  Chlorphenamine Mal_Oral Soln 2mg/5ml      1  2.62   \n",
       "4   N85639  0401020K0                      Diazepam_Tab 2mg      1  0.16   \n",
       "\n",
       "   act_cost  quantity    code post_code  \n",
       "0      0.47        12  N85639  CH44 5UF  \n",
       "1      4.07        30  N85639  CH44 5UF  \n",
       "2      1.40         1  N85639  CH44 5UF  \n",
       "3      2.44       150  N85639  CH44 5UF  \n",
       "4      0.26         6  N85639  CH44 5UF  "
      ]
     },
     "execution_count": 30,
     "metadata": {},
     "output_type": "execute_result"
    }
   ],
   "source": [
    "# join practice_postal to scripts\n",
    "merged_scripts = scripts.merge(practice_postal, left_on='practice', right_on='code', left_index=False, right_index=False)\n",
    "merged_scripts.head()"
   ]
  },
  {
   "cell_type": "code",
   "execution_count": 31,
   "metadata": {},
   "outputs": [
    {
     "data": {
      "text/plain": [
       "(973193, 9)"
      ]
     },
     "execution_count": 31,
     "metadata": {},
     "output_type": "execute_result"
    }
   ],
   "source": [
    "merged_scripts.shape"
   ]
  },
  {
   "cell_type": "code",
   "execution_count": 32,
   "metadata": {},
   "outputs": [
    {
     "data": {
      "text/html": [
       "<div>\n",
       "<style scoped>\n",
       "    .dataframe tbody tr th:only-of-type {\n",
       "        vertical-align: middle;\n",
       "    }\n",
       "\n",
       "    .dataframe tbody tr th {\n",
       "        vertical-align: top;\n",
       "    }\n",
       "\n",
       "    .dataframe thead th {\n",
       "        text-align: right;\n",
       "    }\n",
       "</style>\n",
       "<table border=\"1\" class=\"dataframe\">\n",
       "  <thead>\n",
       "    <tr style=\"text-align: right;\">\n",
       "      <th></th>\n",
       "      <th>bnf_name</th>\n",
       "      <th>items</th>\n",
       "    </tr>\n",
       "    <tr>\n",
       "      <th>post_code</th>\n",
       "      <th></th>\n",
       "      <th></th>\n",
       "    </tr>\n",
       "  </thead>\n",
       "  <tbody>\n",
       "    <tr>\n",
       "      <th>B11 4BW</th>\n",
       "      <td>Salbutamol_Inha 100mcg (200 D) CFF</td>\n",
       "      <td>706</td>\n",
       "    </tr>\n",
       "    <tr>\n",
       "      <th>B12 9LP</th>\n",
       "      <td>Paracet_Tab 500mg</td>\n",
       "      <td>425</td>\n",
       "    </tr>\n",
       "    <tr>\n",
       "      <th>B18 7AL</th>\n",
       "      <td>Salbutamol_Inha 100mcg (200 D) CFF</td>\n",
       "      <td>556</td>\n",
       "    </tr>\n",
       "    <tr>\n",
       "      <th>B21 9RY</th>\n",
       "      <td>Metformin HCl_Tab 500mg</td>\n",
       "      <td>1033</td>\n",
       "    </tr>\n",
       "    <tr>\n",
       "      <th>B23 6DJ</th>\n",
       "      <td>Lansoprazole_Cap 30mg (E/C Gran)</td>\n",
       "      <td>599</td>\n",
       "    </tr>\n",
       "  </tbody>\n",
       "</table>\n",
       "</div>"
      ],
      "text/plain": [
       "                                     bnf_name  items\n",
       "post_code                                           \n",
       "B11 4BW    Salbutamol_Inha 100mcg (200 D) CFF    706\n",
       "B12 9LP                     Paracet_Tab 500mg    425\n",
       "B18 7AL    Salbutamol_Inha 100mcg (200 D) CFF    556\n",
       "B21 9RY               Metformin HCl_Tab 500mg   1033\n",
       "B23 6DJ      Lansoprazole_Cap 30mg (E/C Gran)    599"
      ]
     },
     "execution_count": 32,
     "metadata": {},
     "output_type": "execute_result"
    }
   ],
   "source": [
    "total_bnf_post = merged_scripts.groupby(['bnf_name', 'post_code'])['items'].sum().reset_index()\n",
    "total_bnf_post = total_bnf_post.sort_values('items', ascending=False).groupby('post_code').first()\n",
    "total_bnf_post.head()"
   ]
  },
  {
   "cell_type": "code",
   "execution_count": 33,
   "metadata": {},
   "outputs": [
    {
     "data": {
      "text/html": [
       "<div>\n",
       "<style scoped>\n",
       "    .dataframe tbody tr th:only-of-type {\n",
       "        vertical-align: middle;\n",
       "    }\n",
       "\n",
       "    .dataframe tbody tr th {\n",
       "        vertical-align: top;\n",
       "    }\n",
       "\n",
       "    .dataframe thead th {\n",
       "        text-align: right;\n",
       "    }\n",
       "</style>\n",
       "<table border=\"1\" class=\"dataframe\">\n",
       "  <thead>\n",
       "    <tr style=\"text-align: right;\">\n",
       "      <th></th>\n",
       "      <th>post_code</th>\n",
       "      <th>items</th>\n",
       "    </tr>\n",
       "  </thead>\n",
       "  <tbody>\n",
       "    <tr>\n",
       "      <th>0</th>\n",
       "      <td>B11 4BW</td>\n",
       "      <td>22731</td>\n",
       "    </tr>\n",
       "    <tr>\n",
       "      <th>1</th>\n",
       "      <td>B12 9LP</td>\n",
       "      <td>17073</td>\n",
       "    </tr>\n",
       "    <tr>\n",
       "      <th>2</th>\n",
       "      <td>B18 7AL</td>\n",
       "      <td>20508</td>\n",
       "    </tr>\n",
       "    <tr>\n",
       "      <th>3</th>\n",
       "      <td>B21 9RY</td>\n",
       "      <td>31027</td>\n",
       "    </tr>\n",
       "    <tr>\n",
       "      <th>4</th>\n",
       "      <td>B23 6DJ</td>\n",
       "      <td>28011</td>\n",
       "    </tr>\n",
       "  </tbody>\n",
       "</table>\n",
       "</div>"
      ],
      "text/plain": [
       "  post_code  items\n",
       "0   B11 4BW  22731\n",
       "1   B12 9LP  17073\n",
       "2   B18 7AL  20508\n",
       "3   B21 9RY  31027\n",
       "4   B23 6DJ  28011"
      ]
     },
     "execution_count": 33,
     "metadata": {},
     "output_type": "execute_result"
    }
   ],
   "source": [
    "total_by_post = merged_scripts.groupby('post_code')['items'].sum().reset_index()\n",
    "total_by_post.head()"
   ]
  },
  {
   "cell_type": "code",
   "execution_count": 34,
   "metadata": {
    "scrolled": true
   },
   "outputs": [
    {
     "data": {
      "text/html": [
       "<div>\n",
       "<style scoped>\n",
       "    .dataframe tbody tr th:only-of-type {\n",
       "        vertical-align: middle;\n",
       "    }\n",
       "\n",
       "    .dataframe tbody tr th {\n",
       "        vertical-align: top;\n",
       "    }\n",
       "\n",
       "    .dataframe thead th {\n",
       "        text-align: right;\n",
       "    }\n",
       "</style>\n",
       "<table border=\"1\" class=\"dataframe\">\n",
       "  <thead>\n",
       "    <tr style=\"text-align: right;\">\n",
       "      <th></th>\n",
       "      <th>post_code</th>\n",
       "      <th>bnf_name</th>\n",
       "      <th>items_x</th>\n",
       "      <th>items_y</th>\n",
       "    </tr>\n",
       "  </thead>\n",
       "  <tbody>\n",
       "    <tr>\n",
       "      <th>0</th>\n",
       "      <td>B11 4BW</td>\n",
       "      <td>Salbutamol_Inha 100mcg (200 D) CFF</td>\n",
       "      <td>706</td>\n",
       "      <td>22731</td>\n",
       "    </tr>\n",
       "    <tr>\n",
       "      <th>1</th>\n",
       "      <td>B12 9LP</td>\n",
       "      <td>Paracet_Tab 500mg</td>\n",
       "      <td>425</td>\n",
       "      <td>17073</td>\n",
       "    </tr>\n",
       "    <tr>\n",
       "      <th>2</th>\n",
       "      <td>B18 7AL</td>\n",
       "      <td>Salbutamol_Inha 100mcg (200 D) CFF</td>\n",
       "      <td>556</td>\n",
       "      <td>20508</td>\n",
       "    </tr>\n",
       "    <tr>\n",
       "      <th>3</th>\n",
       "      <td>B21 9RY</td>\n",
       "      <td>Metformin HCl_Tab 500mg</td>\n",
       "      <td>1033</td>\n",
       "      <td>31027</td>\n",
       "    </tr>\n",
       "    <tr>\n",
       "      <th>4</th>\n",
       "      <td>B23 6DJ</td>\n",
       "      <td>Lansoprazole_Cap 30mg (E/C Gran)</td>\n",
       "      <td>599</td>\n",
       "      <td>28011</td>\n",
       "    </tr>\n",
       "  </tbody>\n",
       "</table>\n",
       "</div>"
      ],
      "text/plain": [
       "  post_code                            bnf_name  items_x  items_y\n",
       "0   B11 4BW  Salbutamol_Inha 100mcg (200 D) CFF      706    22731\n",
       "1   B12 9LP                   Paracet_Tab 500mg      425    17073\n",
       "2   B18 7AL  Salbutamol_Inha 100mcg (200 D) CFF      556    20508\n",
       "3   B21 9RY             Metformin HCl_Tab 500mg     1033    31027\n",
       "4   B23 6DJ    Lansoprazole_Cap 30mg (E/C Gran)      599    28011"
      ]
     },
     "execution_count": 34,
     "metadata": {},
     "output_type": "execute_result"
    }
   ],
   "source": [
    "# Then merge with total_by_post with total_bnf_post\n",
    "merged_items= total_bnf_post.merge(total_by_post, on='post_code')\n",
    "merged_items.head()"
   ]
  },
  {
   "cell_type": "code",
   "execution_count": 35,
   "metadata": {},
   "outputs": [
    {
     "data": {
      "text/html": [
       "<div>\n",
       "<style scoped>\n",
       "    .dataframe tbody tr th:only-of-type {\n",
       "        vertical-align: middle;\n",
       "    }\n",
       "\n",
       "    .dataframe tbody tr th {\n",
       "        vertical-align: top;\n",
       "    }\n",
       "\n",
       "    .dataframe thead th {\n",
       "        text-align: right;\n",
       "    }\n",
       "</style>\n",
       "<table border=\"1\" class=\"dataframe\">\n",
       "  <thead>\n",
       "    <tr style=\"text-align: right;\">\n",
       "      <th></th>\n",
       "      <th>post_code</th>\n",
       "      <th>bnf_name</th>\n",
       "      <th>items_x</th>\n",
       "      <th>items_y</th>\n",
       "      <th>amount_dispensed</th>\n",
       "    </tr>\n",
       "  </thead>\n",
       "  <tbody>\n",
       "    <tr>\n",
       "      <th>0</th>\n",
       "      <td>B11 4BW</td>\n",
       "      <td>Salbutamol_Inha 100mcg (200 D) CFF</td>\n",
       "      <td>706</td>\n",
       "      <td>22731</td>\n",
       "      <td>0.031059</td>\n",
       "    </tr>\n",
       "    <tr>\n",
       "      <th>1</th>\n",
       "      <td>B12 9LP</td>\n",
       "      <td>Paracet_Tab 500mg</td>\n",
       "      <td>425</td>\n",
       "      <td>17073</td>\n",
       "      <td>0.024893</td>\n",
       "    </tr>\n",
       "    <tr>\n",
       "      <th>2</th>\n",
       "      <td>B18 7AL</td>\n",
       "      <td>Salbutamol_Inha 100mcg (200 D) CFF</td>\n",
       "      <td>556</td>\n",
       "      <td>20508</td>\n",
       "      <td>0.027111</td>\n",
       "    </tr>\n",
       "    <tr>\n",
       "      <th>3</th>\n",
       "      <td>B21 9RY</td>\n",
       "      <td>Metformin HCl_Tab 500mg</td>\n",
       "      <td>1033</td>\n",
       "      <td>31027</td>\n",
       "      <td>0.033294</td>\n",
       "    </tr>\n",
       "    <tr>\n",
       "      <th>4</th>\n",
       "      <td>B23 6DJ</td>\n",
       "      <td>Lansoprazole_Cap 30mg (E/C Gran)</td>\n",
       "      <td>599</td>\n",
       "      <td>28011</td>\n",
       "      <td>0.021384</td>\n",
       "    </tr>\n",
       "  </tbody>\n",
       "</table>\n",
       "</div>"
      ],
      "text/plain": [
       "  post_code                            bnf_name  items_x  items_y  \\\n",
       "0   B11 4BW  Salbutamol_Inha 100mcg (200 D) CFF      706    22731   \n",
       "1   B12 9LP                   Paracet_Tab 500mg      425    17073   \n",
       "2   B18 7AL  Salbutamol_Inha 100mcg (200 D) CFF      556    20508   \n",
       "3   B21 9RY             Metformin HCl_Tab 500mg     1033    31027   \n",
       "4   B23 6DJ    Lansoprazole_Cap 30mg (E/C Gran)      599    28011   \n",
       "\n",
       "   amount_dispensed  \n",
       "0          0.031059  \n",
       "1          0.024893  \n",
       "2          0.027111  \n",
       "3          0.033294  \n",
       "4          0.021384  "
      ]
     },
     "execution_count": 35,
     "metadata": {},
     "output_type": "execute_result"
    }
   ],
   "source": [
    "merged_items['amount_dispensed'] = merged_items['items_x']/merged_items['items_y']\n",
    "merged_items.head()"
   ]
  },
  {
   "cell_type": "code",
   "execution_count": 36,
   "metadata": {},
   "outputs": [],
   "source": [
    "common_items_by_region = merged_items[['post_code', 'bnf_name', 'amount_dispensed']].head(100)"
   ]
  },
  {
   "cell_type": "code",
   "execution_count": 37,
   "metadata": {},
   "outputs": [
    {
     "data": {
      "text/html": [
       "<div>\n",
       "<style scoped>\n",
       "    .dataframe tbody tr th:only-of-type {\n",
       "        vertical-align: middle;\n",
       "    }\n",
       "\n",
       "    .dataframe tbody tr th {\n",
       "        vertical-align: top;\n",
       "    }\n",
       "\n",
       "    .dataframe thead th {\n",
       "        text-align: right;\n",
       "    }\n",
       "</style>\n",
       "<table border=\"1\" class=\"dataframe\">\n",
       "  <thead>\n",
       "    <tr style=\"text-align: right;\">\n",
       "      <th></th>\n",
       "      <th>post_code</th>\n",
       "      <th>bnf_name</th>\n",
       "      <th>amount_dispensed</th>\n",
       "    </tr>\n",
       "  </thead>\n",
       "  <tbody>\n",
       "    <tr>\n",
       "      <th>0</th>\n",
       "      <td>B11 4BW</td>\n",
       "      <td>Salbutamol_Inha 100mcg (200 D) CFF</td>\n",
       "      <td>0.031059</td>\n",
       "    </tr>\n",
       "    <tr>\n",
       "      <th>1</th>\n",
       "      <td>B12 9LP</td>\n",
       "      <td>Paracet_Tab 500mg</td>\n",
       "      <td>0.024893</td>\n",
       "    </tr>\n",
       "    <tr>\n",
       "      <th>2</th>\n",
       "      <td>B18 7AL</td>\n",
       "      <td>Salbutamol_Inha 100mcg (200 D) CFF</td>\n",
       "      <td>0.027111</td>\n",
       "    </tr>\n",
       "    <tr>\n",
       "      <th>3</th>\n",
       "      <td>B21 9RY</td>\n",
       "      <td>Metformin HCl_Tab 500mg</td>\n",
       "      <td>0.033294</td>\n",
       "    </tr>\n",
       "    <tr>\n",
       "      <th>4</th>\n",
       "      <td>B23 6DJ</td>\n",
       "      <td>Lansoprazole_Cap 30mg (E/C Gran)</td>\n",
       "      <td>0.021384</td>\n",
       "    </tr>\n",
       "  </tbody>\n",
       "</table>\n",
       "</div>"
      ],
      "text/plain": [
       "  post_code                            bnf_name  amount_dispensed\n",
       "0   B11 4BW  Salbutamol_Inha 100mcg (200 D) CFF          0.031059\n",
       "1   B12 9LP                   Paracet_Tab 500mg          0.024893\n",
       "2   B18 7AL  Salbutamol_Inha 100mcg (200 D) CFF          0.027111\n",
       "3   B21 9RY             Metformin HCl_Tab 500mg          0.033294\n",
       "4   B23 6DJ    Lansoprazole_Cap 30mg (E/C Gran)          0.021384"
      ]
     },
     "execution_count": 37,
     "metadata": {},
     "output_type": "execute_result"
    }
   ],
   "source": [
    "common_items_by_region.head()"
   ]
  },
  {
   "cell_type": "code",
   "execution_count": 38,
   "metadata": {},
   "outputs": [],
   "source": [
    "items_by_region = [row[1:] for row in common_items_by_region.itertuples()]"
   ]
  },
  {
   "cell_type": "code",
   "execution_count": 39,
   "metadata": {},
   "outputs": [
    {
     "name": "stdout",
     "output_type": "stream",
     "text": [
      "==================\n",
      "Your score:  1.0\n",
      "==================\n"
     ]
    }
   ],
   "source": [
    "grader.score.dw__items_by_region(items_by_region)"
   ]
  },
  {
   "cell_type": "markdown",
   "metadata": {},
   "source": [
    "## Question 4: script_anomalies\n",
    "\n",
    "Drug abuse is a source of human and monetary costs in health care. A first step in identifying practitioners that enable drug abuse is to look for practices where commonly abused drugs are prescribed unusually often. Let's try to find practices that prescribe an unusually high amount of opioids. The opioids we'll look for are given in the list below."
   ]
  },
  {
   "cell_type": "code",
   "execution_count": 165,
   "metadata": {},
   "outputs": [],
   "source": [
    "opioids = ['morphine', 'oxycodone', 'methadone', 'fentanyl', 'pethidine', 'buprenorphine', 'propoxyphene', 'codeine']"
   ]
  },
  {
   "cell_type": "markdown",
   "metadata": {},
   "source": [
    "These are generic names for drugs, not brand names. Generic drug names can be found using the `'bnf_code'` field in `scripts` along with the `chem` table.. Use the list of opioids provided above along with these fields to make a new field in the `scripts` data that flags whether the row corresponds with a opioid prescription."
   ]
  },
  {
   "cell_type": "code",
   "execution_count": 166,
   "metadata": {},
   "outputs": [
    {
     "data": {
      "text/plain": [
       "'morphine|oxycodone|methadone|fentanyl|pethidine|buprenorphine|propoxyphene|codeine'"
      ]
     },
     "execution_count": 166,
     "metadata": {},
     "output_type": "execute_result"
    }
   ],
   "source": [
    "ops = \"|\".join(opioids)\n",
    "ops"
   ]
  },
  {
   "cell_type": "code",
   "execution_count": 167,
   "metadata": {
    "scrolled": true
   },
   "outputs": [
    {
     "data": {
      "text/html": [
       "<div>\n",
       "<style scoped>\n",
       "    .dataframe tbody tr th:only-of-type {\n",
       "        vertical-align: middle;\n",
       "    }\n",
       "\n",
       "    .dataframe tbody tr th {\n",
       "        vertical-align: top;\n",
       "    }\n",
       "\n",
       "    .dataframe thead th {\n",
       "        text-align: right;\n",
       "    }\n",
       "</style>\n",
       "<table border=\"1\" class=\"dataframe\">\n",
       "  <thead>\n",
       "    <tr style=\"text-align: right;\">\n",
       "      <th></th>\n",
       "      <th>bnf_code</th>\n",
       "      <th>NAME</th>\n",
       "    </tr>\n",
       "  </thead>\n",
       "  <tbody>\n",
       "    <tr>\n",
       "      <th>0</th>\n",
       "      <td>0101010A0</td>\n",
       "      <td>Alexitol Sodium</td>\n",
       "    </tr>\n",
       "    <tr>\n",
       "      <th>1</th>\n",
       "      <td>0101010B0</td>\n",
       "      <td>Almasilate</td>\n",
       "    </tr>\n",
       "    <tr>\n",
       "      <th>2</th>\n",
       "      <td>0101010C0</td>\n",
       "      <td>Aluminium Hydroxide</td>\n",
       "    </tr>\n",
       "    <tr>\n",
       "      <th>3</th>\n",
       "      <td>0101010D0</td>\n",
       "      <td>Aluminium Hydroxide With Magnesium</td>\n",
       "    </tr>\n",
       "    <tr>\n",
       "      <th>4</th>\n",
       "      <td>0101010E0</td>\n",
       "      <td>Hydrotalcite</td>\n",
       "    </tr>\n",
       "  </tbody>\n",
       "</table>\n",
       "</div>"
      ],
      "text/plain": [
       "    bnf_code                                NAME\n",
       "0  0101010A0                     Alexitol Sodium\n",
       "1  0101010B0                          Almasilate\n",
       "2  0101010C0                 Aluminium Hydroxide\n",
       "3  0101010D0  Aluminium Hydroxide With Magnesium\n",
       "4  0101010E0                        Hydrotalcite"
      ]
     },
     "execution_count": 167,
     "metadata": {},
     "output_type": "execute_result"
    }
   ],
   "source": [
    "chem.head()"
   ]
  },
  {
   "cell_type": "code",
   "execution_count": 168,
   "metadata": {},
   "outputs": [
    {
     "data": {
      "text/plain": [
       "(3481, 2)"
      ]
     },
     "execution_count": 168,
     "metadata": {},
     "output_type": "execute_result"
    }
   ],
   "source": [
    "chem.shape"
   ]
  },
  {
   "cell_type": "code",
   "execution_count": 169,
   "metadata": {},
   "outputs": [],
   "source": [
    "chem = chem.rename(columns={'CHEM SUB': 'bnf_code'}).drop_duplicates('bnf_code') "
   ]
  },
  {
   "cell_type": "code",
   "execution_count": 170,
   "metadata": {},
   "outputs": [],
   "source": [
    "scripts_chem = pd.merge(scripts, chem, left_on='bnf_code', right_on='bnf_code', how='left', sort=False, right_index=False, left_index=False)\n",
    "\n",
    "scripts_chem['is_opioid'] = scripts_chem[\"NAME\"].str.contains(ops, na=False, case=False, regex=True)"
   ]
  },
  {
   "cell_type": "code",
   "execution_count": 171,
   "metadata": {},
   "outputs": [
    {
     "data": {
      "text/html": [
       "<div>\n",
       "<style scoped>\n",
       "    .dataframe tbody tr th:only-of-type {\n",
       "        vertical-align: middle;\n",
       "    }\n",
       "\n",
       "    .dataframe tbody tr th {\n",
       "        vertical-align: top;\n",
       "    }\n",
       "\n",
       "    .dataframe thead th {\n",
       "        text-align: right;\n",
       "    }\n",
       "</style>\n",
       "<table border=\"1\" class=\"dataframe\">\n",
       "  <thead>\n",
       "    <tr style=\"text-align: right;\">\n",
       "      <th></th>\n",
       "      <th>practice</th>\n",
       "      <th>bnf_code</th>\n",
       "      <th>bnf_name</th>\n",
       "      <th>items</th>\n",
       "      <th>nic</th>\n",
       "      <th>act_cost</th>\n",
       "      <th>quantity</th>\n",
       "      <th>NAME</th>\n",
       "      <th>is_opioid</th>\n",
       "    </tr>\n",
       "  </thead>\n",
       "  <tbody>\n",
       "    <tr>\n",
       "      <th>6</th>\n",
       "      <td>N85639</td>\n",
       "      <td>0407010F0</td>\n",
       "      <td>Co-Codamol_Cap 30mg/500mg</td>\n",
       "      <td>1</td>\n",
       "      <td>0.84</td>\n",
       "      <td>0.89</td>\n",
       "      <td>24</td>\n",
       "      <td>Co-Codamol (Codeine Phos/Paracetamol)</td>\n",
       "      <td>True</td>\n",
       "    </tr>\n",
       "    <tr>\n",
       "      <th>7</th>\n",
       "      <td>N85639</td>\n",
       "      <td>0407010F0</td>\n",
       "      <td>Zapain_Tab 30mg/500mg</td>\n",
       "      <td>1</td>\n",
       "      <td>3.03</td>\n",
       "      <td>2.82</td>\n",
       "      <td>100</td>\n",
       "      <td>Co-Codamol (Codeine Phos/Paracetamol)</td>\n",
       "      <td>True</td>\n",
       "    </tr>\n",
       "    <tr>\n",
       "      <th>527</th>\n",
       "      <td>N81013</td>\n",
       "      <td>0407010F0</td>\n",
       "      <td>Co-Codamol_Tab 8mg/500mg</td>\n",
       "      <td>37</td>\n",
       "      <td>101.91</td>\n",
       "      <td>96.13</td>\n",
       "      <td>3446</td>\n",
       "      <td>Co-Codamol (Codeine Phos/Paracetamol)</td>\n",
       "      <td>True</td>\n",
       "    </tr>\n",
       "  </tbody>\n",
       "</table>\n",
       "</div>"
      ],
      "text/plain": [
       "    practice   bnf_code                   bnf_name  items     nic  act_cost  \\\n",
       "6     N85639  0407010F0  Co-Codamol_Cap 30mg/500mg      1    0.84      0.89   \n",
       "7     N85639  0407010F0      Zapain_Tab 30mg/500mg      1    3.03      2.82   \n",
       "527   N81013  0407010F0   Co-Codamol_Tab 8mg/500mg     37  101.91     96.13   \n",
       "\n",
       "     quantity                                   NAME  is_opioid  \n",
       "6          24  Co-Codamol (Codeine Phos/Paracetamol)       True  \n",
       "7         100  Co-Codamol (Codeine Phos/Paracetamol)       True  \n",
       "527      3446  Co-Codamol (Codeine Phos/Paracetamol)       True  "
      ]
     },
     "execution_count": 171,
     "metadata": {},
     "output_type": "execute_result"
    }
   ],
   "source": [
    "scripts_chem[scripts_chem['is_opioid']==True].iloc[:3]"
   ]
  },
  {
   "cell_type": "code",
   "execution_count": 172,
   "metadata": {},
   "outputs": [
    {
     "data": {
      "text/plain": [
       "practice          0\n",
       "bnf_code          0\n",
       "bnf_name          0\n",
       "items             0\n",
       "nic               0\n",
       "act_cost          0\n",
       "quantity          0\n",
       "NAME         118749\n",
       "is_opioid         0\n",
       "dtype: int64"
      ]
     },
     "execution_count": 172,
     "metadata": {},
     "output_type": "execute_result"
    }
   ],
   "source": [
    "scripts_chem.isnull().sum()"
   ]
  },
  {
   "cell_type": "code",
   "execution_count": 173,
   "metadata": {},
   "outputs": [],
   "source": [
    "scripts_chem.fillna(0, inplace=True)"
   ]
  },
  {
   "cell_type": "markdown",
   "metadata": {},
   "source": [
    "Now for each practice calculate the proportion of its prescriptions containing opioids.\n",
    "\n",
    "**Hint:** Consider the following list: `[0, 1, 1, 0, 0, 0]`. What proportion of the entries are 1s? What is the mean value?"
   ]
  },
  {
   "cell_type": "code",
   "execution_count": 174,
   "metadata": {},
   "outputs": [],
   "source": [
    "opioid_scripts_per_practice = scripts_chem[['practice', 'is_opioid', 'bnf_name']].groupby(['practice']).agg({'is_opioid': 'sum', 'bnf_name': 'count'})\n"
   ]
  },
  {
   "cell_type": "code",
   "execution_count": 175,
   "metadata": {},
   "outputs": [],
   "source": [
    "opioid_scripts_per_practice = opioid_scripts_per_practice.rename(columns={'bnf_name': 'number_of_scripts', 'is_opioid': 'opioid_script_count'})"
   ]
  },
  {
   "cell_type": "code",
   "execution_count": 176,
   "metadata": {},
   "outputs": [
    {
     "data": {
      "text/html": [
       "<div>\n",
       "<style scoped>\n",
       "    .dataframe tbody tr th:only-of-type {\n",
       "        vertical-align: middle;\n",
       "    }\n",
       "\n",
       "    .dataframe tbody tr th {\n",
       "        vertical-align: top;\n",
       "    }\n",
       "\n",
       "    .dataframe thead th {\n",
       "        text-align: right;\n",
       "    }\n",
       "</style>\n",
       "<table border=\"1\" class=\"dataframe\">\n",
       "  <thead>\n",
       "    <tr style=\"text-align: right;\">\n",
       "      <th></th>\n",
       "      <th>opioid_script_count</th>\n",
       "      <th>number_of_scripts</th>\n",
       "    </tr>\n",
       "    <tr>\n",
       "      <th>practice</th>\n",
       "      <th></th>\n",
       "      <th></th>\n",
       "    </tr>\n",
       "  </thead>\n",
       "  <tbody>\n",
       "    <tr>\n",
       "      <th>A81005</th>\n",
       "      <td>50.0</td>\n",
       "      <td>1507</td>\n",
       "    </tr>\n",
       "    <tr>\n",
       "      <th>A81007</th>\n",
       "      <td>63.0</td>\n",
       "      <td>1454</td>\n",
       "    </tr>\n",
       "    <tr>\n",
       "      <th>A81011</th>\n",
       "      <td>73.0</td>\n",
       "      <td>1568</td>\n",
       "    </tr>\n",
       "  </tbody>\n",
       "</table>\n",
       "</div>"
      ],
      "text/plain": [
       "          opioid_script_count  number_of_scripts\n",
       "practice                                        \n",
       "A81005                   50.0               1507\n",
       "A81007                   63.0               1454\n",
       "A81011                   73.0               1568"
      ]
     },
     "execution_count": 176,
     "metadata": {},
     "output_type": "execute_result"
    }
   ],
   "source": [
    "opioid_scripts_per_practice.iloc[:3]"
   ]
  },
  {
   "cell_type": "code",
   "execution_count": 177,
   "metadata": {},
   "outputs": [
    {
     "data": {
      "text/html": [
       "<div>\n",
       "<style scoped>\n",
       "    .dataframe tbody tr th:only-of-type {\n",
       "        vertical-align: middle;\n",
       "    }\n",
       "\n",
       "    .dataframe tbody tr th {\n",
       "        vertical-align: top;\n",
       "    }\n",
       "\n",
       "    .dataframe thead th {\n",
       "        text-align: right;\n",
       "    }\n",
       "</style>\n",
       "<table border=\"1\" class=\"dataframe\">\n",
       "  <thead>\n",
       "    <tr style=\"text-align: right;\">\n",
       "      <th></th>\n",
       "      <th>practice</th>\n",
       "      <th>opioid_script_count</th>\n",
       "      <th>number_of_scripts</th>\n",
       "      <th>opioids_per_practice</th>\n",
       "    </tr>\n",
       "  </thead>\n",
       "  <tbody>\n",
       "    <tr>\n",
       "      <th>0</th>\n",
       "      <td>A81005</td>\n",
       "      <td>50.0</td>\n",
       "      <td>1507</td>\n",
       "      <td>0.033179</td>\n",
       "    </tr>\n",
       "    <tr>\n",
       "      <th>1</th>\n",
       "      <td>A81007</td>\n",
       "      <td>63.0</td>\n",
       "      <td>1454</td>\n",
       "      <td>0.043329</td>\n",
       "    </tr>\n",
       "    <tr>\n",
       "      <th>2</th>\n",
       "      <td>A81011</td>\n",
       "      <td>73.0</td>\n",
       "      <td>1568</td>\n",
       "      <td>0.046556</td>\n",
       "    </tr>\n",
       "    <tr>\n",
       "      <th>3</th>\n",
       "      <td>A81012</td>\n",
       "      <td>57.0</td>\n",
       "      <td>1332</td>\n",
       "      <td>0.042793</td>\n",
       "    </tr>\n",
       "    <tr>\n",
       "      <th>4</th>\n",
       "      <td>A81017</td>\n",
       "      <td>82.0</td>\n",
       "      <td>2150</td>\n",
       "      <td>0.038140</td>\n",
       "    </tr>\n",
       "  </tbody>\n",
       "</table>\n",
       "</div>"
      ],
      "text/plain": [
       "  practice  opioid_script_count  number_of_scripts  opioids_per_practice\n",
       "0   A81005                 50.0               1507              0.033179\n",
       "1   A81007                 63.0               1454              0.043329\n",
       "2   A81011                 73.0               1568              0.046556\n",
       "3   A81012                 57.0               1332              0.042793\n",
       "4   A81017                 82.0               2150              0.038140"
      ]
     },
     "execution_count": 177,
     "metadata": {},
     "output_type": "execute_result"
    }
   ],
   "source": [
    "opioid_scripts_per_practice['opioids_per_practice']= opioid_scripts_per_practice['opioid_script_count'] / opioid_scripts_per_practice['number_of_scripts'] \n",
    "opioid_scripts_per_practice = opioid_scripts_per_practice.reset_index()\n",
    "opioid_scripts_per_practice.head()"
   ]
  },
  {
   "cell_type": "markdown",
   "metadata": {},
   "source": [
    "How do these proportions compare to the overall opioid prescription rate? Subtract off the proportion of all prescriptions that are opioids from each practice's proportion."
   ]
  },
  {
   "cell_type": "code",
   "execution_count": 178,
   "metadata": {},
   "outputs": [],
   "source": [
    "overall_opioid_rate = scripts_chem['is_opioid'].mean()"
   ]
  },
  {
   "cell_type": "markdown",
   "metadata": {},
   "source": [
    "Now that we know the difference between each practice's opioid prescription rate and the overall rate, we can identify which practices prescribe opioids at above average or below average rates. However, are the differences from the overall rate important or just random deviations? In other words, are the differences from the overall rate big or small?\n",
    "\n",
    "To answer this question we have to quantify the difference we would typically expect between a given practice's opioid prescription rate and the overall rate. This quantity is called the **standard error**, and is related to the **standard deviation**, $\\sigma$. The standard error in this case is\n",
    "\n",
    "$$ \\frac{\\sigma}{\\sqrt{n}} $$\n",
    "\n",
    "where $n$ is the number of prescriptions each practice made. Calculate the standard error for each practice. Then divide `relative_opioids_per_practice` by the standard errors. We'll call the final result `opioid_scores`."
   ]
  },
  {
   "cell_type": "code",
   "execution_count": 179,
   "metadata": {},
   "outputs": [],
   "source": [
    "opioid_scripts_per_practice['relative_opioids_per_practice'] = opioid_scripts_per_practice['opioids_per_practice'] - overall_opioid_rate"
   ]
  },
  {
   "cell_type": "code",
   "execution_count": 180,
   "metadata": {},
   "outputs": [],
   "source": [
    "opioid_scripts_per_practice['stderr'] = np.sqrt((overall_opioid_rate*(1-overall_opioid_rate)) / opioid_scripts_per_practice['number_of_scripts'])"
   ]
  },
  {
   "cell_type": "code",
   "execution_count": 181,
   "metadata": {},
   "outputs": [],
   "source": [
    "opioid_scripts_per_practice['z_scores'] = (opioid_scripts_per_practice['relative_opioids_per_practice'] / opioid_scripts_per_practice['stderr'])"
   ]
  },
  {
   "cell_type": "code",
   "execution_count": 182,
   "metadata": {},
   "outputs": [
    {
     "data": {
      "text/html": [
       "<div>\n",
       "<style scoped>\n",
       "    .dataframe tbody tr th:only-of-type {\n",
       "        vertical-align: middle;\n",
       "    }\n",
       "\n",
       "    .dataframe tbody tr th {\n",
       "        vertical-align: top;\n",
       "    }\n",
       "\n",
       "    .dataframe thead th {\n",
       "        text-align: right;\n",
       "    }\n",
       "</style>\n",
       "<table border=\"1\" class=\"dataframe\">\n",
       "  <thead>\n",
       "    <tr style=\"text-align: right;\">\n",
       "      <th></th>\n",
       "      <th>practice</th>\n",
       "      <th>opioid_script_count</th>\n",
       "      <th>number_of_scripts</th>\n",
       "      <th>opioids_per_practice</th>\n",
       "      <th>relative_opioids_per_practice</th>\n",
       "      <th>stderr</th>\n",
       "      <th>z_scores</th>\n",
       "    </tr>\n",
       "  </thead>\n",
       "  <tbody>\n",
       "    <tr>\n",
       "      <th>0</th>\n",
       "      <td>A81005</td>\n",
       "      <td>50.0</td>\n",
       "      <td>1507</td>\n",
       "      <td>0.033179</td>\n",
       "      <td>-0.002624</td>\n",
       "      <td>0.004786</td>\n",
       "      <td>-0.548306</td>\n",
       "    </tr>\n",
       "    <tr>\n",
       "      <th>1</th>\n",
       "      <td>A81007</td>\n",
       "      <td>63.0</td>\n",
       "      <td>1454</td>\n",
       "      <td>0.043329</td>\n",
       "      <td>0.007526</td>\n",
       "      <td>0.004873</td>\n",
       "      <td>1.544558</td>\n",
       "    </tr>\n",
       "    <tr>\n",
       "      <th>2</th>\n",
       "      <td>A81011</td>\n",
       "      <td>73.0</td>\n",
       "      <td>1568</td>\n",
       "      <td>0.046556</td>\n",
       "      <td>0.010753</td>\n",
       "      <td>0.004692</td>\n",
       "      <td>2.291796</td>\n",
       "    </tr>\n",
       "    <tr>\n",
       "      <th>3</th>\n",
       "      <td>A81012</td>\n",
       "      <td>57.0</td>\n",
       "      <td>1332</td>\n",
       "      <td>0.042793</td>\n",
       "      <td>0.006990</td>\n",
       "      <td>0.005091</td>\n",
       "      <td>1.373061</td>\n",
       "    </tr>\n",
       "    <tr>\n",
       "      <th>4</th>\n",
       "      <td>A81017</td>\n",
       "      <td>82.0</td>\n",
       "      <td>2150</td>\n",
       "      <td>0.038140</td>\n",
       "      <td>0.002337</td>\n",
       "      <td>0.004007</td>\n",
       "      <td>0.583168</td>\n",
       "    </tr>\n",
       "  </tbody>\n",
       "</table>\n",
       "</div>"
      ],
      "text/plain": [
       "  practice  opioid_script_count  number_of_scripts  opioids_per_practice  \\\n",
       "0   A81005                 50.0               1507              0.033179   \n",
       "1   A81007                 63.0               1454              0.043329   \n",
       "2   A81011                 73.0               1568              0.046556   \n",
       "3   A81012                 57.0               1332              0.042793   \n",
       "4   A81017                 82.0               2150              0.038140   \n",
       "\n",
       "   relative_opioids_per_practice    stderr  z_scores  \n",
       "0                      -0.002624  0.004786 -0.548306  \n",
       "1                       0.007526  0.004873  1.544558  \n",
       "2                       0.010753  0.004692  2.291796  \n",
       "3                       0.006990  0.005091  1.373061  \n",
       "4                       0.002337  0.004007  0.583168  "
      ]
     },
     "execution_count": 182,
     "metadata": {},
     "output_type": "execute_result"
    }
   ],
   "source": [
    "opioid_scripts_per_practice.head()"
   ]
  },
  {
   "cell_type": "markdown",
   "metadata": {},
   "source": [
    "The quantity we have calculated in `opioid_scores` is called a **z-score**:\n",
    "\n",
    "$$ \\frac{\\bar{X} - \\mu}{\\sqrt{\\sigma^2/n}} $$\n",
    "\n",
    "Here $\\bar{X}$ corresponds with the proportion for each practice, $\\mu$ corresponds with the proportion across all practices, $\\sigma^2$ corresponds with the variance of the proportion across all practices, and $n$ is the number of prescriptions made by each practice. Notice $\\bar{X}$ and $n$ will be different for each practice, while $\\mu$ and $\\sigma$ are determined across all prescriptions, and so are the same for every z-score. The z-score is a useful statistical tool used for hypothesis testing, finding outliers, and comparing data about different types of objects or events.\n",
    "\n",
    "Now that we've calculated this statistic, take the 100 practices with the largest z-score. Return your result as a list of tuples in the form `(practice_name, z-score, number_of_scripts)`. Sort your tuples by z-score in descending order. Note that some practice codes will correspond with multiple names. In this case, use the first match when sorting names alphabetically."
   ]
  },
  {
   "cell_type": "code",
   "execution_count": 183,
   "metadata": {},
   "outputs": [
    {
     "data": {
      "text/html": [
       "<div>\n",
       "<style scoped>\n",
       "    .dataframe tbody tr th:only-of-type {\n",
       "        vertical-align: middle;\n",
       "    }\n",
       "\n",
       "    .dataframe tbody tr th {\n",
       "        vertical-align: top;\n",
       "    }\n",
       "\n",
       "    .dataframe thead th {\n",
       "        text-align: right;\n",
       "    }\n",
       "</style>\n",
       "<table border=\"1\" class=\"dataframe\">\n",
       "  <thead>\n",
       "    <tr style=\"text-align: right;\">\n",
       "      <th></th>\n",
       "      <th>code</th>\n",
       "      <th>name</th>\n",
       "      <th>addr_1</th>\n",
       "      <th>addr_2</th>\n",
       "      <th>borough</th>\n",
       "      <th>village</th>\n",
       "      <th>post_code</th>\n",
       "    </tr>\n",
       "  </thead>\n",
       "  <tbody>\n",
       "    <tr>\n",
       "      <th>0</th>\n",
       "      <td>P87657</td>\n",
       "      <td>(IRLAM) SALFORD CARE CTRS MEDICAL PRACTI</td>\n",
       "      <td>SALFORD CARE CTR(IRLAM)</td>\n",
       "      <td>125 LIVERPOOL ROAD</td>\n",
       "      <td>IRLAM</td>\n",
       "      <td>MANCHESTER</td>\n",
       "      <td>M44 6DP</td>\n",
       "    </tr>\n",
       "    <tr>\n",
       "      <th>1</th>\n",
       "      <td>Y05381</td>\n",
       "      <td>0-19 EAST CHESHIRE HEALTH VISITORS</td>\n",
       "      <td>SALINAE CLINIC</td>\n",
       "      <td>LEWIN STREET</td>\n",
       "      <td>MIDDLEWICH</td>\n",
       "      <td>CHESHIRE</td>\n",
       "      <td>CW10 9FG</td>\n",
       "    </tr>\n",
       "    <tr>\n",
       "      <th>2</th>\n",
       "      <td>Y04082</td>\n",
       "      <td>0-19 PUBLIC HEALTH SERVICE HARTLEPOOL</td>\n",
       "      <td>CHATHAM CHILDRENS CENTRE</td>\n",
       "      <td>29 CHATHAM ROAD</td>\n",
       "      <td>HARTLEPOOL</td>\n",
       "      <td>NaN</td>\n",
       "      <td>TS24 8QG</td>\n",
       "    </tr>\n",
       "    <tr>\n",
       "      <th>3</th>\n",
       "      <td>Y00364</td>\n",
       "      <td>1 TO 1 CENTRE</td>\n",
       "      <td>BRENKLEY AVENUE</td>\n",
       "      <td>SHIREMOOR</td>\n",
       "      <td>NEWCASTLE UPON TYNE</td>\n",
       "      <td>NaN</td>\n",
       "      <td>NE27 0PR</td>\n",
       "    </tr>\n",
       "    <tr>\n",
       "      <th>4</th>\n",
       "      <td>P87652</td>\n",
       "      <td>1/LOWER BROUGHTON MEDICAL PRACTICE</td>\n",
       "      <td>LOWER BROUGHTON HTH.CTR.</td>\n",
       "      <td>GREAT CLOWES STREET</td>\n",
       "      <td>SALFORD</td>\n",
       "      <td>NaN</td>\n",
       "      <td>M7 1RD</td>\n",
       "    </tr>\n",
       "  </tbody>\n",
       "</table>\n",
       "</div>"
      ],
      "text/plain": [
       "     code                                      name                    addr_1  \\\n",
       "0  P87657  (IRLAM) SALFORD CARE CTRS MEDICAL PRACTI   SALFORD CARE CTR(IRLAM)   \n",
       "1  Y05381        0-19 EAST CHESHIRE HEALTH VISITORS            SALINAE CLINIC   \n",
       "2  Y04082     0-19 PUBLIC HEALTH SERVICE HARTLEPOOL  CHATHAM CHILDRENS CENTRE   \n",
       "3  Y00364                             1 TO 1 CENTRE           BRENKLEY AVENUE   \n",
       "4  P87652        1/LOWER BROUGHTON MEDICAL PRACTICE  LOWER BROUGHTON HTH.CTR.   \n",
       "\n",
       "                addr_2              borough     village post_code  \n",
       "0   125 LIVERPOOL ROAD                IRLAM  MANCHESTER   M44 6DP  \n",
       "1         LEWIN STREET           MIDDLEWICH    CHESHIRE  CW10 9FG  \n",
       "2      29 CHATHAM ROAD           HARTLEPOOL         NaN  TS24 8QG  \n",
       "3            SHIREMOOR  NEWCASTLE UPON TYNE         NaN  NE27 0PR  \n",
       "4  GREAT CLOWES STREET              SALFORD         NaN    M7 1RD  "
      ]
     },
     "execution_count": 183,
     "metadata": {},
     "output_type": "execute_result"
    }
   ],
   "source": [
    "unique_practices = practices.sort_values(by='name').groupby('code', sort=False).first()\n",
    "unique_practices.reset_index(inplace=True)\n",
    "unique_practices.head()"
   ]
  },
  {
   "cell_type": "code",
   "execution_count": 186,
   "metadata": {},
   "outputs": [
    {
     "data": {
      "text/html": [
       "<div>\n",
       "<style scoped>\n",
       "    .dataframe tbody tr th:only-of-type {\n",
       "        vertical-align: middle;\n",
       "    }\n",
       "\n",
       "    .dataframe tbody tr th {\n",
       "        vertical-align: top;\n",
       "    }\n",
       "\n",
       "    .dataframe thead th {\n",
       "        text-align: right;\n",
       "    }\n",
       "</style>\n",
       "<table border=\"1\" class=\"dataframe\">\n",
       "  <thead>\n",
       "    <tr style=\"text-align: right;\">\n",
       "      <th></th>\n",
       "      <th>practice</th>\n",
       "      <th>opioid_script_count</th>\n",
       "      <th>number_of_scripts</th>\n",
       "      <th>opioids_per_practice</th>\n",
       "      <th>relative_opioids_per_practice</th>\n",
       "      <th>stderr</th>\n",
       "      <th>z_scores</th>\n",
       "      <th>name</th>\n",
       "      <th>code</th>\n",
       "    </tr>\n",
       "  </thead>\n",
       "  <tbody>\n",
       "    <tr>\n",
       "      <th>0</th>\n",
       "      <td>A81005</td>\n",
       "      <td>50.0</td>\n",
       "      <td>1507</td>\n",
       "      <td>0.033179</td>\n",
       "      <td>-0.002624</td>\n",
       "      <td>0.004786</td>\n",
       "      <td>-0.548306</td>\n",
       "      <td>SPRINGWOOD SURGERY</td>\n",
       "      <td>A81005</td>\n",
       "    </tr>\n",
       "    <tr>\n",
       "      <th>1</th>\n",
       "      <td>A81007</td>\n",
       "      <td>63.0</td>\n",
       "      <td>1454</td>\n",
       "      <td>0.043329</td>\n",
       "      <td>0.007526</td>\n",
       "      <td>0.004873</td>\n",
       "      <td>1.544558</td>\n",
       "      <td>BANKHOUSE SURGERY</td>\n",
       "      <td>A81007</td>\n",
       "    </tr>\n",
       "    <tr>\n",
       "      <th>2</th>\n",
       "      <td>A81011</td>\n",
       "      <td>73.0</td>\n",
       "      <td>1568</td>\n",
       "      <td>0.046556</td>\n",
       "      <td>0.010753</td>\n",
       "      <td>0.004692</td>\n",
       "      <td>2.291796</td>\n",
       "      <td>CHADWICK PRACTICE</td>\n",
       "      <td>A81011</td>\n",
       "    </tr>\n",
       "    <tr>\n",
       "      <th>3</th>\n",
       "      <td>A81012</td>\n",
       "      <td>57.0</td>\n",
       "      <td>1332</td>\n",
       "      <td>0.042793</td>\n",
       "      <td>0.006990</td>\n",
       "      <td>0.005091</td>\n",
       "      <td>1.373061</td>\n",
       "      <td>WESTBOURNE MEDICAL CENTRE</td>\n",
       "      <td>A81012</td>\n",
       "    </tr>\n",
       "    <tr>\n",
       "      <th>4</th>\n",
       "      <td>A81017</td>\n",
       "      <td>82.0</td>\n",
       "      <td>2150</td>\n",
       "      <td>0.038140</td>\n",
       "      <td>0.002337</td>\n",
       "      <td>0.004007</td>\n",
       "      <td>0.583168</td>\n",
       "      <td>WOODBRIDGE PRACTICE</td>\n",
       "      <td>A81017</td>\n",
       "    </tr>\n",
       "  </tbody>\n",
       "</table>\n",
       "</div>"
      ],
      "text/plain": [
       "  practice  opioid_script_count  number_of_scripts  opioids_per_practice  \\\n",
       "0   A81005                 50.0               1507              0.033179   \n",
       "1   A81007                 63.0               1454              0.043329   \n",
       "2   A81011                 73.0               1568              0.046556   \n",
       "3   A81012                 57.0               1332              0.042793   \n",
       "4   A81017                 82.0               2150              0.038140   \n",
       "\n",
       "   relative_opioids_per_practice    stderr  z_scores  \\\n",
       "0                      -0.002624  0.004786 -0.548306   \n",
       "1                       0.007526  0.004873  1.544558   \n",
       "2                       0.010753  0.004692  2.291796   \n",
       "3                       0.006990  0.005091  1.373061   \n",
       "4                       0.002337  0.004007  0.583168   \n",
       "\n",
       "                        name    code  \n",
       "0         SPRINGWOOD SURGERY  A81005  \n",
       "1          BANKHOUSE SURGERY  A81007  \n",
       "2          CHADWICK PRACTICE  A81011  \n",
       "3  WESTBOURNE MEDICAL CENTRE  A81012  \n",
       "4        WOODBRIDGE PRACTICE  A81017  "
      ]
     },
     "execution_count": 186,
     "metadata": {},
     "output_type": "execute_result"
    }
   ],
   "source": [
    "merged_results = opioid_scripts_per_practice.merge(unique_practices[['name', 'code']], left_on='practice', right_on='code', how='left')\n",
    "merged_results.head()"
   ]
  },
  {
   "cell_type": "code",
   "execution_count": 187,
   "metadata": {},
   "outputs": [
    {
     "data": {
      "text/plain": [
       "[('NATIONAL ENHANCED SERVICE', 11.695823871932637, 7),\n",
       " ('OUTREACH SERVICE NH / RH', 7.339046789841712, 2),\n",
       " ('BRISDOC HEALTHCARE SERVICES OOH', 6.150584909087286, 60)]"
      ]
     },
     "execution_count": 187,
     "metadata": {},
     "output_type": "execute_result"
    }
   ],
   "source": [
    "merged_results.sort_values('z_scores', ascending = False , inplace=True)\n",
    "results = merged_results[['name', 'z_scores', 'number_of_scripts']]\n",
    "\n",
    "anomalies = [tuple(value) for value in results.values][:100]\n",
    "anomalies[:3]"
   ]
  },
  {
   "cell_type": "code",
   "execution_count": 188,
   "metadata": {},
   "outputs": [
    {
     "data": {
      "text/plain": [
       "-6.009032636811185e-06"
      ]
     },
     "execution_count": 188,
     "metadata": {},
     "output_type": "execute_result"
    }
   ],
   "source": [
    "11.6958178629 - 11.695823871932637"
   ]
  },
  {
   "cell_type": "code",
   "execution_count": 189,
   "metadata": {},
   "outputs": [
    {
     "name": "stdout",
     "output_type": "stream",
     "text": [
      "==================\n",
      "Your score:  1.0\n",
      "==================\n"
     ]
    }
   ],
   "source": [
    "grader.score.dw__script_anomalies(anomalies)"
   ]
  },
  {
   "cell_type": "markdown",
   "metadata": {},
   "source": [
    "## Question 5: script_growth\n",
    "\n",
    "Another way to identify anomalies is by comparing current data to historical data. In the case of identifying sites of drug abuse, we might compare a practice's current rate of opioid prescription to their rate 5 or 10 years ago. Unless the nature of the practice has changed, the profile of drugs they prescribe should be relatively stable. We might also want to identify trends through time for business reasons, identifying drugs that are gaining market share. That's what we'll do in this question.\n",
    "\n",
    "We'll load in beneficiary data from 6 months earlier, June 2016, and calculate the percent growth in prescription rate from June 2016 to January 2017 for each `bnf_name`. We'll return the 50 items with largest growth and the 50 items with the largest shrinkage (i.e. negative percent growth) as a list of tuples sorted by growth rate in descending order in the format `(script_name, growth_rate, raw_2016_count)`. You'll notice that many of the 50 fastest growing items have low counts of prescriptions in 2016. Filter out any items that were prescribed less than 50 times."
   ]
  },
  {
   "cell_type": "code",
   "execution_count": 204,
   "metadata": {},
   "outputs": [],
   "source": [
    "with gzip.open('./dw-data/201606scripts_sample.csv.gz') as script:\n",
    "    scripts16 = pd.read_csv(script)"
   ]
  },
  {
   "cell_type": "code",
   "execution_count": 205,
   "metadata": {},
   "outputs": [
    {
     "data": {
      "text/html": [
       "<div>\n",
       "<style scoped>\n",
       "    .dataframe tbody tr th:only-of-type {\n",
       "        vertical-align: middle;\n",
       "    }\n",
       "\n",
       "    .dataframe tbody tr th {\n",
       "        vertical-align: top;\n",
       "    }\n",
       "\n",
       "    .dataframe thead th {\n",
       "        text-align: right;\n",
       "    }\n",
       "</style>\n",
       "<table border=\"1\" class=\"dataframe\">\n",
       "  <thead>\n",
       "    <tr style=\"text-align: right;\">\n",
       "      <th></th>\n",
       "      <th>practice</th>\n",
       "      <th>bnf_code</th>\n",
       "      <th>bnf_name</th>\n",
       "      <th>items</th>\n",
       "      <th>nic</th>\n",
       "      <th>act_cost</th>\n",
       "      <th>quantity</th>\n",
       "    </tr>\n",
       "  </thead>\n",
       "  <tbody>\n",
       "    <tr>\n",
       "      <th>0</th>\n",
       "      <td>N85638</td>\n",
       "      <td>0301011R0</td>\n",
       "      <td>Salamol_Inha 100mcg (200 D) CFF (Teva)</td>\n",
       "      <td>2</td>\n",
       "      <td>2.92</td>\n",
       "      <td>2.73</td>\n",
       "      <td>2</td>\n",
       "    </tr>\n",
       "    <tr>\n",
       "      <th>1</th>\n",
       "      <td>N85638</td>\n",
       "      <td>0301011R0</td>\n",
       "      <td>Easyhaler_Salbutamol Sulf 200mcg (200D)</td>\n",
       "      <td>1</td>\n",
       "      <td>6.63</td>\n",
       "      <td>6.15</td>\n",
       "      <td>1</td>\n",
       "    </tr>\n",
       "    <tr>\n",
       "      <th>2</th>\n",
       "      <td>N85638</td>\n",
       "      <td>0301020I0</td>\n",
       "      <td>Ipratrop Brom_Inh Soln 500mcg/2ml Ud</td>\n",
       "      <td>1</td>\n",
       "      <td>1.77</td>\n",
       "      <td>1.75</td>\n",
       "      <td>12</td>\n",
       "    </tr>\n",
       "    <tr>\n",
       "      <th>3</th>\n",
       "      <td>N85638</td>\n",
       "      <td>0301020I0</td>\n",
       "      <td>Ipratrop Brom_Inh Soln 250mcg/1ml Ud</td>\n",
       "      <td>1</td>\n",
       "      <td>4.47</td>\n",
       "      <td>4.15</td>\n",
       "      <td>20</td>\n",
       "    </tr>\n",
       "    <tr>\n",
       "      <th>4</th>\n",
       "      <td>N85638</td>\n",
       "      <td>0302000C0</td>\n",
       "      <td>Clenil Modulite_Inha 50mcg (200D)</td>\n",
       "      <td>1</td>\n",
       "      <td>3.70</td>\n",
       "      <td>3.44</td>\n",
       "      <td>1</td>\n",
       "    </tr>\n",
       "  </tbody>\n",
       "</table>\n",
       "</div>"
      ],
      "text/plain": [
       "  practice   bnf_code                                 bnf_name  items   nic  \\\n",
       "0   N85638  0301011R0   Salamol_Inha 100mcg (200 D) CFF (Teva)      2  2.92   \n",
       "1   N85638  0301011R0  Easyhaler_Salbutamol Sulf 200mcg (200D)      1  6.63   \n",
       "2   N85638  0301020I0     Ipratrop Brom_Inh Soln 500mcg/2ml Ud      1  1.77   \n",
       "3   N85638  0301020I0     Ipratrop Brom_Inh Soln 250mcg/1ml Ud      1  4.47   \n",
       "4   N85638  0302000C0        Clenil Modulite_Inha 50mcg (200D)      1  3.70   \n",
       "\n",
       "   act_cost  quantity  \n",
       "0      2.73         2  \n",
       "1      6.15         1  \n",
       "2      1.75        12  \n",
       "3      4.15        20  \n",
       "4      3.44         1  "
      ]
     },
     "execution_count": 205,
     "metadata": {},
     "output_type": "execute_result"
    }
   ],
   "source": [
    "scripts16.head()"
   ]
  },
  {
   "cell_type": "code",
   "execution_count": 206,
   "metadata": {},
   "outputs": [],
   "source": [
    "raw_2017_count = scripts.groupby(['bnf_name'])['items'].count().rename('raw_2017_count')\n",
    "raw_2016_count = scripts16.groupby(['bnf_name'])['items'].count().rename('raw_2016_count')"
   ]
  },
  {
   "cell_type": "code",
   "execution_count": 209,
   "metadata": {},
   "outputs": [
    {
     "data": {
      "text/html": [
       "<div>\n",
       "<style scoped>\n",
       "    .dataframe tbody tr th:only-of-type {\n",
       "        vertical-align: middle;\n",
       "    }\n",
       "\n",
       "    .dataframe tbody tr th {\n",
       "        vertical-align: top;\n",
       "    }\n",
       "\n",
       "    .dataframe thead th {\n",
       "        text-align: right;\n",
       "    }\n",
       "</style>\n",
       "<table border=\"1\" class=\"dataframe\">\n",
       "  <thead>\n",
       "    <tr style=\"text-align: right;\">\n",
       "      <th></th>\n",
       "      <th>bnf_name</th>\n",
       "      <th>growth_rate</th>\n",
       "      <th>raw_2016_count</th>\n",
       "    </tr>\n",
       "  </thead>\n",
       "  <tbody>\n",
       "    <tr>\n",
       "      <th>0</th>\n",
       "      <td>365 Film 15cm x 20cm VP Adh Film Dress</td>\n",
       "      <td>0.0</td>\n",
       "      <td>1</td>\n",
       "    </tr>\n",
       "    <tr>\n",
       "      <th>1</th>\n",
       "      <td>365 Film 4cm x 5cm VP Adh Film Dress</td>\n",
       "      <td>0.0</td>\n",
       "      <td>1</td>\n",
       "    </tr>\n",
       "    <tr>\n",
       "      <th>2</th>\n",
       "      <td>365 Non Adherent 10cm x 10cm Pfa Plas Fa</td>\n",
       "      <td>0.0</td>\n",
       "      <td>3</td>\n",
       "    </tr>\n",
       "    <tr>\n",
       "      <th>3</th>\n",
       "      <td>365 Non Woven Island 10cm x 10cm Adh Dre</td>\n",
       "      <td>0.0</td>\n",
       "      <td>1</td>\n",
       "    </tr>\n",
       "    <tr>\n",
       "      <th>4</th>\n",
       "      <td>365 Non Woven Island 10cm x 15cm Adh Dre</td>\n",
       "      <td>0.0</td>\n",
       "      <td>1</td>\n",
       "    </tr>\n",
       "  </tbody>\n",
       "</table>\n",
       "</div>"
      ],
      "text/plain": [
       "                                   bnf_name  growth_rate  raw_2016_count\n",
       "0    365 Film 15cm x 20cm VP Adh Film Dress          0.0               1\n",
       "1      365 Film 4cm x 5cm VP Adh Film Dress          0.0               1\n",
       "2  365 Non Adherent 10cm x 10cm Pfa Plas Fa          0.0               3\n",
       "3  365 Non Woven Island 10cm x 10cm Adh Dre          0.0               1\n",
       "4  365 Non Woven Island 10cm x 15cm Adh Dre          0.0               1"
      ]
     },
     "execution_count": 209,
     "metadata": {},
     "output_type": "execute_result"
    }
   ],
   "source": [
    "growth = ((raw_2017_count - raw_2016_count)/raw_2016_count).reset_index(name='growth_rate')\n",
    "growth_df = growth.merge(raw_2016_count.reset_index(), on ='bnf_name')\n",
    "growth_df.fillna(0, inplace=True)\n",
    "growth_df.head()"
   ]
  },
  {
   "cell_type": "code",
   "execution_count": 210,
   "metadata": {},
   "outputs": [
    {
     "data": {
      "text/html": [
       "<div>\n",
       "<style scoped>\n",
       "    .dataframe tbody tr th:only-of-type {\n",
       "        vertical-align: middle;\n",
       "    }\n",
       "\n",
       "    .dataframe tbody tr th {\n",
       "        vertical-align: top;\n",
       "    }\n",
       "\n",
       "    .dataframe thead th {\n",
       "        text-align: right;\n",
       "    }\n",
       "</style>\n",
       "<table border=\"1\" class=\"dataframe\">\n",
       "  <thead>\n",
       "    <tr style=\"text-align: right;\">\n",
       "      <th></th>\n",
       "      <th>bnf_name</th>\n",
       "      <th>growth_rate</th>\n",
       "      <th>raw_2016_count</th>\n",
       "    </tr>\n",
       "  </thead>\n",
       "  <tbody>\n",
       "    <tr>\n",
       "      <th>10</th>\n",
       "      <td>3m Health Care_Cavilon Durable Barrier C</td>\n",
       "      <td>-0.010909</td>\n",
       "      <td>825</td>\n",
       "    </tr>\n",
       "    <tr>\n",
       "      <th>11</th>\n",
       "      <td>3m Health Care_Cavilon No Sting 1ml Barr</td>\n",
       "      <td>-0.034632</td>\n",
       "      <td>231</td>\n",
       "    </tr>\n",
       "    <tr>\n",
       "      <th>12</th>\n",
       "      <td>3m Health Care_Cavilon No Sting 3ml Barr</td>\n",
       "      <td>-0.104762</td>\n",
       "      <td>105</td>\n",
       "    </tr>\n",
       "    <tr>\n",
       "      <th>13</th>\n",
       "      <td>3m Health Care_Cavilon No Sting Barrier</td>\n",
       "      <td>-0.092511</td>\n",
       "      <td>454</td>\n",
       "    </tr>\n",
       "    <tr>\n",
       "      <th>16</th>\n",
       "      <td>A.S Saliva Orthana Spy 50ml (App)</td>\n",
       "      <td>0.440476</td>\n",
       "      <td>84</td>\n",
       "    </tr>\n",
       "  </tbody>\n",
       "</table>\n",
       "</div>"
      ],
      "text/plain": [
       "                                    bnf_name  growth_rate  raw_2016_count\n",
       "10  3m Health Care_Cavilon Durable Barrier C    -0.010909             825\n",
       "11  3m Health Care_Cavilon No Sting 1ml Barr    -0.034632             231\n",
       "12  3m Health Care_Cavilon No Sting 3ml Barr    -0.104762             105\n",
       "13   3m Health Care_Cavilon No Sting Barrier    -0.092511             454\n",
       "16         A.S Saliva Orthana Spy 50ml (App)     0.440476              84"
      ]
     },
     "execution_count": 210,
     "metadata": {},
     "output_type": "execute_result"
    }
   ],
   "source": [
    "growth_df = growth_df[growth_df['raw_2016_count'] >= 50]\n",
    "growth_df.head()"
   ]
  },
  {
   "cell_type": "code",
   "execution_count": 211,
   "metadata": {},
   "outputs": [
    {
     "data": {
      "text/html": [
       "<div>\n",
       "<style scoped>\n",
       "    .dataframe tbody tr th:only-of-type {\n",
       "        vertical-align: middle;\n",
       "    }\n",
       "\n",
       "    .dataframe tbody tr th {\n",
       "        vertical-align: top;\n",
       "    }\n",
       "\n",
       "    .dataframe thead th {\n",
       "        text-align: right;\n",
       "    }\n",
       "</style>\n",
       "<table border=\"1\" class=\"dataframe\">\n",
       "  <thead>\n",
       "    <tr style=\"text-align: right;\">\n",
       "      <th></th>\n",
       "      <th>bnf_name</th>\n",
       "      <th>growth_rate</th>\n",
       "      <th>raw_2016_count</th>\n",
       "    </tr>\n",
       "  </thead>\n",
       "  <tbody>\n",
       "    <tr>\n",
       "      <th>1745</th>\n",
       "      <td>Butec_Transdermal Patch 5mcg/hr</td>\n",
       "      <td>3.467742</td>\n",
       "      <td>62</td>\n",
       "    </tr>\n",
       "    <tr>\n",
       "      <th>1743</th>\n",
       "      <td>Butec_Transdermal Patch 10mcg/hr</td>\n",
       "      <td>3.000000</td>\n",
       "      <td>69</td>\n",
       "    </tr>\n",
       "    <tr>\n",
       "      <th>5114</th>\n",
       "      <td>Fostair NEXThaler_Inh 200mcg/6mcg (120D)</td>\n",
       "      <td>1.430233</td>\n",
       "      <td>86</td>\n",
       "    </tr>\n",
       "    <tr>\n",
       "      <th>9907</th>\n",
       "      <td>Pneumococcal_Vac 0.5ml Vl (23 Valent)</td>\n",
       "      <td>1.269430</td>\n",
       "      <td>193</td>\n",
       "    </tr>\n",
       "    <tr>\n",
       "      <th>11710</th>\n",
       "      <td>Spiolto Respimat_Inha2.5/2.5mcg(60D)+Dev</td>\n",
       "      <td>1.269231</td>\n",
       "      <td>52</td>\n",
       "    </tr>\n",
       "  </tbody>\n",
       "</table>\n",
       "</div>"
      ],
      "text/plain": [
       "                                       bnf_name  growth_rate  raw_2016_count\n",
       "1745            Butec_Transdermal Patch 5mcg/hr     3.467742              62\n",
       "1743           Butec_Transdermal Patch 10mcg/hr     3.000000              69\n",
       "5114   Fostair NEXThaler_Inh 200mcg/6mcg (120D)     1.430233              86\n",
       "9907      Pneumococcal_Vac 0.5ml Vl (23 Valent)     1.269430             193\n",
       "11710  Spiolto Respimat_Inha2.5/2.5mcg(60D)+Dev     1.269231              52"
      ]
     },
     "execution_count": 211,
     "metadata": {},
     "output_type": "execute_result"
    }
   ],
   "source": [
    "growth_df.sort_values(by='growth_rate', ascending=False, inplace=True)\n",
    "growth_df.head()"
   ]
  },
  {
   "cell_type": "code",
   "execution_count": 212,
   "metadata": {},
   "outputs": [
    {
     "data": {
      "text/plain": [
       "[('Butec_Transdermal Patch 5mcg/hr', 3.467741935483871, 62),\n",
       " ('Butec_Transdermal Patch 10mcg/hr', 3.0, 69),\n",
       " ('Fostair NEXThaler_Inh 200mcg/6mcg (120D)', 1.430232558139535, 86)]"
      ]
     },
     "execution_count": 212,
     "metadata": {},
     "output_type": "execute_result"
    }
   ],
   "source": [
    "script_growth = list(pd.concat([growth_df.head(50), growth_df.tail(50)]).itertuples(index=False, name=None))\n",
    "\n",
    "script_growth[:3]"
   ]
  },
  {
   "cell_type": "code",
   "execution_count": 213,
   "metadata": {},
   "outputs": [],
   "source": [
    "#script_growth = [(\"Butec_Transdermal Patch 5mcg\\/hr\", 3.4677419355, 62.0)] * 100"
   ]
  },
  {
   "cell_type": "code",
   "execution_count": 214,
   "metadata": {},
   "outputs": [
    {
     "name": "stdout",
     "output_type": "stream",
     "text": [
      "==================\n",
      "Your score:  1.0\n",
      "==================\n"
     ]
    }
   ],
   "source": [
    "grader.score.dw__script_growth(script_growth)"
   ]
  },
  {
   "cell_type": "markdown",
   "metadata": {},
   "source": [
    "## Question 6: rare_scripts\n",
    "\n",
    "Does a practice's prescription costs originate from routine care or from reliance on rarely prescribed treatments? Commonplace treatments can carry lower costs than rare treatments because of efficiencies in large-scale production. While some specialist practices can't help but avoid prescribing rare medicines because there are no alternatives, some practices may be prescribing a unnecessary amount of brand-name products when generics are available. Let's identify practices whose costs disproportionately originate from rarely prescribed items.\n",
    "\n",
    "First we have to identify which `'bnf_code'` are rare. To do this, find the probability $p$ of a prescription having a particular `'bnf_code'` if the `'bnf_code'` was randomly chosen from the unique options in the beneficiary data. We will call a `'bnf_code'` rare if it is prescribed at a rate less than $0.1p$."
   ]
  },
  {
   "cell_type": "code",
   "execution_count": 215,
   "metadata": {},
   "outputs": [
    {
     "data": {
      "text/html": [
       "<div>\n",
       "<style scoped>\n",
       "    .dataframe tbody tr th:only-of-type {\n",
       "        vertical-align: middle;\n",
       "    }\n",
       "\n",
       "    .dataframe tbody tr th {\n",
       "        vertical-align: top;\n",
       "    }\n",
       "\n",
       "    .dataframe thead th {\n",
       "        text-align: right;\n",
       "    }\n",
       "</style>\n",
       "<table border=\"1\" class=\"dataframe\">\n",
       "  <thead>\n",
       "    <tr style=\"text-align: right;\">\n",
       "      <th></th>\n",
       "      <th>code</th>\n",
       "      <th>name</th>\n",
       "      <th>addr_1</th>\n",
       "      <th>addr_2</th>\n",
       "      <th>borough</th>\n",
       "      <th>village</th>\n",
       "      <th>post_code</th>\n",
       "    </tr>\n",
       "  </thead>\n",
       "  <tbody>\n",
       "    <tr>\n",
       "      <th>0</th>\n",
       "      <td>A81001</td>\n",
       "      <td>THE DENSHAM SURGERY</td>\n",
       "      <td>THE HEALTH CENTRE</td>\n",
       "      <td>LAWSON STREET</td>\n",
       "      <td>STOCKTON ON TEES</td>\n",
       "      <td>CLEVELAND</td>\n",
       "      <td>TS18 1HU</td>\n",
       "    </tr>\n",
       "    <tr>\n",
       "      <th>1</th>\n",
       "      <td>A81002</td>\n",
       "      <td>QUEENS PARK MEDICAL CENTRE</td>\n",
       "      <td>QUEENS PARK MEDICAL CTR</td>\n",
       "      <td>FARRER STREET</td>\n",
       "      <td>STOCKTON ON TEES</td>\n",
       "      <td>CLEVELAND</td>\n",
       "      <td>TS18 2AW</td>\n",
       "    </tr>\n",
       "    <tr>\n",
       "      <th>2</th>\n",
       "      <td>A81003</td>\n",
       "      <td>VICTORIA MEDICAL PRACTICE</td>\n",
       "      <td>THE HEALTH CENTRE</td>\n",
       "      <td>VICTORIA ROAD</td>\n",
       "      <td>HARTLEPOOL</td>\n",
       "      <td>CLEVELAND</td>\n",
       "      <td>TS26 8DB</td>\n",
       "    </tr>\n",
       "    <tr>\n",
       "      <th>3</th>\n",
       "      <td>A81004</td>\n",
       "      <td>WOODLANDS ROAD SURGERY</td>\n",
       "      <td>6 WOODLANDS ROAD</td>\n",
       "      <td>NaN</td>\n",
       "      <td>MIDDLESBROUGH</td>\n",
       "      <td>CLEVELAND</td>\n",
       "      <td>TS1 3BE</td>\n",
       "    </tr>\n",
       "    <tr>\n",
       "      <th>4</th>\n",
       "      <td>A81005</td>\n",
       "      <td>SPRINGWOOD SURGERY</td>\n",
       "      <td>SPRINGWOOD SURGERY</td>\n",
       "      <td>RECTORY LANE</td>\n",
       "      <td>GUISBOROUGH</td>\n",
       "      <td>NaN</td>\n",
       "      <td>TS14 7DJ</td>\n",
       "    </tr>\n",
       "  </tbody>\n",
       "</table>\n",
       "</div>"
      ],
      "text/plain": [
       "     code                        name                   addr_1         addr_2  \\\n",
       "0  A81001         THE DENSHAM SURGERY        THE HEALTH CENTRE  LAWSON STREET   \n",
       "1  A81002  QUEENS PARK MEDICAL CENTRE  QUEENS PARK MEDICAL CTR  FARRER STREET   \n",
       "2  A81003   VICTORIA MEDICAL PRACTICE        THE HEALTH CENTRE  VICTORIA ROAD   \n",
       "3  A81004      WOODLANDS ROAD SURGERY         6 WOODLANDS ROAD            NaN   \n",
       "4  A81005          SPRINGWOOD SURGERY       SPRINGWOOD SURGERY   RECTORY LANE   \n",
       "\n",
       "            borough    village post_code  \n",
       "0  STOCKTON ON TEES  CLEVELAND  TS18 1HU  \n",
       "1  STOCKTON ON TEES  CLEVELAND  TS18 2AW  \n",
       "2        HARTLEPOOL  CLEVELAND  TS26 8DB  \n",
       "3     MIDDLESBROUGH  CLEVELAND   TS1 3BE  \n",
       "4       GUISBOROUGH        NaN  TS14 7DJ  "
      ]
     },
     "execution_count": 215,
     "metadata": {},
     "output_type": "execute_result"
    }
   ],
   "source": [
    "practices.head()"
   ]
  },
  {
   "cell_type": "code",
   "execution_count": 216,
   "metadata": {},
   "outputs": [
    {
     "data": {
      "text/html": [
       "<div>\n",
       "<style scoped>\n",
       "    .dataframe tbody tr th:only-of-type {\n",
       "        vertical-align: middle;\n",
       "    }\n",
       "\n",
       "    .dataframe tbody tr th {\n",
       "        vertical-align: top;\n",
       "    }\n",
       "\n",
       "    .dataframe thead th {\n",
       "        text-align: right;\n",
       "    }\n",
       "</style>\n",
       "<table border=\"1\" class=\"dataframe\">\n",
       "  <thead>\n",
       "    <tr style=\"text-align: right;\">\n",
       "      <th></th>\n",
       "      <th>practice</th>\n",
       "      <th>bnf_code</th>\n",
       "      <th>bnf_name</th>\n",
       "      <th>items</th>\n",
       "      <th>nic</th>\n",
       "      <th>act_cost</th>\n",
       "      <th>quantity</th>\n",
       "    </tr>\n",
       "  </thead>\n",
       "  <tbody>\n",
       "    <tr>\n",
       "      <th>0</th>\n",
       "      <td>N85639</td>\n",
       "      <td>0106020C0</td>\n",
       "      <td>Bisacodyl_Tab E/C 5mg</td>\n",
       "      <td>1</td>\n",
       "      <td>0.39</td>\n",
       "      <td>0.47</td>\n",
       "      <td>12</td>\n",
       "    </tr>\n",
       "    <tr>\n",
       "      <th>1</th>\n",
       "      <td>N85639</td>\n",
       "      <td>0106040M0</td>\n",
       "      <td>Movicol Plain_Paed Pdr Sach 6.9g</td>\n",
       "      <td>1</td>\n",
       "      <td>4.38</td>\n",
       "      <td>4.07</td>\n",
       "      <td>30</td>\n",
       "    </tr>\n",
       "    <tr>\n",
       "      <th>2</th>\n",
       "      <td>N85639</td>\n",
       "      <td>0301011R0</td>\n",
       "      <td>Salbutamol_Inha 100mcg (200 D) CFF</td>\n",
       "      <td>1</td>\n",
       "      <td>1.50</td>\n",
       "      <td>1.40</td>\n",
       "      <td>1</td>\n",
       "    </tr>\n",
       "    <tr>\n",
       "      <th>3</th>\n",
       "      <td>N85639</td>\n",
       "      <td>0304010G0</td>\n",
       "      <td>Chlorphenamine Mal_Oral Soln 2mg/5ml</td>\n",
       "      <td>1</td>\n",
       "      <td>2.62</td>\n",
       "      <td>2.44</td>\n",
       "      <td>150</td>\n",
       "    </tr>\n",
       "    <tr>\n",
       "      <th>4</th>\n",
       "      <td>N85639</td>\n",
       "      <td>0401020K0</td>\n",
       "      <td>Diazepam_Tab 2mg</td>\n",
       "      <td>1</td>\n",
       "      <td>0.16</td>\n",
       "      <td>0.26</td>\n",
       "      <td>6</td>\n",
       "    </tr>\n",
       "  </tbody>\n",
       "</table>\n",
       "</div>"
      ],
      "text/plain": [
       "  practice   bnf_code                              bnf_name  items   nic  \\\n",
       "0   N85639  0106020C0                 Bisacodyl_Tab E/C 5mg      1  0.39   \n",
       "1   N85639  0106040M0      Movicol Plain_Paed Pdr Sach 6.9g      1  4.38   \n",
       "2   N85639  0301011R0    Salbutamol_Inha 100mcg (200 D) CFF      1  1.50   \n",
       "3   N85639  0304010G0  Chlorphenamine Mal_Oral Soln 2mg/5ml      1  2.62   \n",
       "4   N85639  0401020K0                      Diazepam_Tab 2mg      1  0.16   \n",
       "\n",
       "   act_cost  quantity  \n",
       "0      0.47        12  \n",
       "1      4.07        30  \n",
       "2      1.40         1  \n",
       "3      2.44       150  \n",
       "4      0.26         6  "
      ]
     },
     "execution_count": 216,
     "metadata": {},
     "output_type": "execute_result"
    }
   ],
   "source": [
    "scripts.head()"
   ]
  },
  {
   "cell_type": "code",
   "execution_count": 217,
   "metadata": {},
   "outputs": [],
   "source": [
    "unique_bnf_code = scripts.bnf_code.nunique()\n",
    "p = 1/unique_bnf_code\n",
    "rates = scripts.bnf_code.value_counts()/len(scripts)\n",
    "rare = rates < .1 * p\n",
    "\n",
    "rare_codes = rates[rare].index.unique()\n",
    "scripts['rare'] = scripts['bnf_code'].isin(rare_codes)"
   ]
  },
  {
   "cell_type": "code",
   "execution_count": 218,
   "metadata": {},
   "outputs": [
    {
     "data": {
      "text/html": [
       "<div>\n",
       "<style scoped>\n",
       "    .dataframe tbody tr th:only-of-type {\n",
       "        vertical-align: middle;\n",
       "    }\n",
       "\n",
       "    .dataframe tbody tr th {\n",
       "        vertical-align: top;\n",
       "    }\n",
       "\n",
       "    .dataframe thead th {\n",
       "        text-align: right;\n",
       "    }\n",
       "</style>\n",
       "<table border=\"1\" class=\"dataframe\">\n",
       "  <thead>\n",
       "    <tr style=\"text-align: right;\">\n",
       "      <th></th>\n",
       "      <th>practice</th>\n",
       "      <th>bnf_code</th>\n",
       "      <th>bnf_name</th>\n",
       "      <th>items</th>\n",
       "      <th>nic</th>\n",
       "      <th>act_cost</th>\n",
       "      <th>quantity</th>\n",
       "      <th>rare</th>\n",
       "    </tr>\n",
       "  </thead>\n",
       "  <tbody>\n",
       "    <tr>\n",
       "      <th>0</th>\n",
       "      <td>N85639</td>\n",
       "      <td>0106020C0</td>\n",
       "      <td>Bisacodyl_Tab E/C 5mg</td>\n",
       "      <td>1</td>\n",
       "      <td>0.39</td>\n",
       "      <td>0.47</td>\n",
       "      <td>12</td>\n",
       "      <td>False</td>\n",
       "    </tr>\n",
       "    <tr>\n",
       "      <th>1</th>\n",
       "      <td>N85639</td>\n",
       "      <td>0106040M0</td>\n",
       "      <td>Movicol Plain_Paed Pdr Sach 6.9g</td>\n",
       "      <td>1</td>\n",
       "      <td>4.38</td>\n",
       "      <td>4.07</td>\n",
       "      <td>30</td>\n",
       "      <td>False</td>\n",
       "    </tr>\n",
       "    <tr>\n",
       "      <th>2</th>\n",
       "      <td>N85639</td>\n",
       "      <td>0301011R0</td>\n",
       "      <td>Salbutamol_Inha 100mcg (200 D) CFF</td>\n",
       "      <td>1</td>\n",
       "      <td>1.50</td>\n",
       "      <td>1.40</td>\n",
       "      <td>1</td>\n",
       "      <td>False</td>\n",
       "    </tr>\n",
       "    <tr>\n",
       "      <th>3</th>\n",
       "      <td>N85639</td>\n",
       "      <td>0304010G0</td>\n",
       "      <td>Chlorphenamine Mal_Oral Soln 2mg/5ml</td>\n",
       "      <td>1</td>\n",
       "      <td>2.62</td>\n",
       "      <td>2.44</td>\n",
       "      <td>150</td>\n",
       "      <td>False</td>\n",
       "    </tr>\n",
       "    <tr>\n",
       "      <th>4</th>\n",
       "      <td>N85639</td>\n",
       "      <td>0401020K0</td>\n",
       "      <td>Diazepam_Tab 2mg</td>\n",
       "      <td>1</td>\n",
       "      <td>0.16</td>\n",
       "      <td>0.26</td>\n",
       "      <td>6</td>\n",
       "      <td>False</td>\n",
       "    </tr>\n",
       "  </tbody>\n",
       "</table>\n",
       "</div>"
      ],
      "text/plain": [
       "  practice   bnf_code                              bnf_name  items   nic  \\\n",
       "0   N85639  0106020C0                 Bisacodyl_Tab E/C 5mg      1  0.39   \n",
       "1   N85639  0106040M0      Movicol Plain_Paed Pdr Sach 6.9g      1  4.38   \n",
       "2   N85639  0301011R0    Salbutamol_Inha 100mcg (200 D) CFF      1  1.50   \n",
       "3   N85639  0304010G0  Chlorphenamine Mal_Oral Soln 2mg/5ml      1  2.62   \n",
       "4   N85639  0401020K0                      Diazepam_Tab 2mg      1  0.16   \n",
       "\n",
       "   act_cost  quantity   rare  \n",
       "0      0.47        12  False  \n",
       "1      4.07        30  False  \n",
       "2      1.40         1  False  \n",
       "3      2.44       150  False  \n",
       "4      0.26         6  False  "
      ]
     },
     "execution_count": 218,
     "metadata": {},
     "output_type": "execute_result"
    }
   ],
   "source": [
    "scripts.head()"
   ]
  },
  {
   "cell_type": "markdown",
   "metadata": {},
   "source": [
    "Now for each practice, calculate the proportion of costs that originate from prescription of rare treatments (i.e. rare `'bnf_code'`). Use the `'act_cost'` field for this calculation."
   ]
  },
  {
   "cell_type": "code",
   "execution_count": 219,
   "metadata": {},
   "outputs": [
    {
     "data": {
      "text/html": [
       "<div>\n",
       "<style scoped>\n",
       "    .dataframe tbody tr th:only-of-type {\n",
       "        vertical-align: middle;\n",
       "    }\n",
       "\n",
       "    .dataframe tbody tr th {\n",
       "        vertical-align: top;\n",
       "    }\n",
       "\n",
       "    .dataframe thead th {\n",
       "        text-align: right;\n",
       "    }\n",
       "</style>\n",
       "<table border=\"1\" class=\"dataframe\">\n",
       "  <thead>\n",
       "    <tr style=\"text-align: right;\">\n",
       "      <th></th>\n",
       "      <th>practice</th>\n",
       "      <th>total_cost_per_practice</th>\n",
       "    </tr>\n",
       "  </thead>\n",
       "  <tbody>\n",
       "    <tr>\n",
       "      <th>0</th>\n",
       "      <td>A81005</td>\n",
       "      <td>103840.82</td>\n",
       "    </tr>\n",
       "    <tr>\n",
       "      <th>1</th>\n",
       "      <td>A81007</td>\n",
       "      <td>113482.49</td>\n",
       "    </tr>\n",
       "    <tr>\n",
       "      <th>2</th>\n",
       "      <td>A81011</td>\n",
       "      <td>159507.03</td>\n",
       "    </tr>\n",
       "  </tbody>\n",
       "</table>\n",
       "</div>"
      ],
      "text/plain": [
       "  practice  total_cost_per_practice\n",
       "0   A81005                103840.82\n",
       "1   A81007                113482.49\n",
       "2   A81011                159507.03"
      ]
     },
     "execution_count": 219,
     "metadata": {},
     "output_type": "execute_result"
    }
   ],
   "source": [
    "total_cost_per_practice = scripts.groupby('practice')['act_cost'].sum().reset_index(name='total_cost_per_practice')\n",
    "total_cost_per_practice.iloc[:3]"
   ]
  },
  {
   "cell_type": "code",
   "execution_count": 220,
   "metadata": {},
   "outputs": [
    {
     "data": {
      "text/html": [
       "<div>\n",
       "<style scoped>\n",
       "    .dataframe tbody tr th:only-of-type {\n",
       "        vertical-align: middle;\n",
       "    }\n",
       "\n",
       "    .dataframe tbody tr th {\n",
       "        vertical-align: top;\n",
       "    }\n",
       "\n",
       "    .dataframe thead th {\n",
       "        text-align: right;\n",
       "    }\n",
       "</style>\n",
       "<table border=\"1\" class=\"dataframe\">\n",
       "  <thead>\n",
       "    <tr style=\"text-align: right;\">\n",
       "      <th></th>\n",
       "      <th>practice</th>\n",
       "      <th>total_cost_per_practice</th>\n",
       "      <th>rare_cost_per_practice</th>\n",
       "    </tr>\n",
       "  </thead>\n",
       "  <tbody>\n",
       "    <tr>\n",
       "      <th>0</th>\n",
       "      <td>A81005</td>\n",
       "      <td>103840.82</td>\n",
       "      <td>1247.83</td>\n",
       "    </tr>\n",
       "    <tr>\n",
       "      <th>1</th>\n",
       "      <td>A81007</td>\n",
       "      <td>113482.49</td>\n",
       "      <td>951.06</td>\n",
       "    </tr>\n",
       "    <tr>\n",
       "      <th>2</th>\n",
       "      <td>A81011</td>\n",
       "      <td>159507.03</td>\n",
       "      <td>816.02</td>\n",
       "    </tr>\n",
       "  </tbody>\n",
       "</table>\n",
       "</div>"
      ],
      "text/plain": [
       "  practice  total_cost_per_practice  rare_cost_per_practice\n",
       "0   A81005                103840.82                 1247.83\n",
       "1   A81007                113482.49                  951.06\n",
       "2   A81011                159507.03                  816.02"
      ]
     },
     "execution_count": 220,
     "metadata": {},
     "output_type": "execute_result"
    }
   ],
   "source": [
    "rare_cost_per_practice = (scripts[scripts['rare']==True].groupby(\n",
    "    'practice')['act_cost'].sum().reset_index(name = 'rare_cost_per_practice'))\n",
    "script_costs = total_cost_per_practice.merge(rare_cost_per_practice, on='practice', how='left')\n",
    "script_costs.iloc[:3]"
   ]
  },
  {
   "cell_type": "code",
   "execution_count": 221,
   "metadata": {},
   "outputs": [
    {
     "data": {
      "text/html": [
       "<div>\n",
       "<style scoped>\n",
       "    .dataframe tbody tr th:only-of-type {\n",
       "        vertical-align: middle;\n",
       "    }\n",
       "\n",
       "    .dataframe tbody tr th {\n",
       "        vertical-align: top;\n",
       "    }\n",
       "\n",
       "    .dataframe thead th {\n",
       "        text-align: right;\n",
       "    }\n",
       "</style>\n",
       "<table border=\"1\" class=\"dataframe\">\n",
       "  <thead>\n",
       "    <tr style=\"text-align: right;\">\n",
       "      <th></th>\n",
       "      <th>practice</th>\n",
       "      <th>total_cost_per_practice</th>\n",
       "      <th>rare_cost_per_practice</th>\n",
       "      <th>rare_cost_prop</th>\n",
       "    </tr>\n",
       "  </thead>\n",
       "  <tbody>\n",
       "    <tr>\n",
       "      <th>0</th>\n",
       "      <td>A81005</td>\n",
       "      <td>103840.82</td>\n",
       "      <td>1247.83</td>\n",
       "      <td>0.012017</td>\n",
       "    </tr>\n",
       "    <tr>\n",
       "      <th>1</th>\n",
       "      <td>A81007</td>\n",
       "      <td>113482.49</td>\n",
       "      <td>951.06</td>\n",
       "      <td>0.008381</td>\n",
       "    </tr>\n",
       "    <tr>\n",
       "      <th>2</th>\n",
       "      <td>A81011</td>\n",
       "      <td>159507.03</td>\n",
       "      <td>816.02</td>\n",
       "      <td>0.005116</td>\n",
       "    </tr>\n",
       "  </tbody>\n",
       "</table>\n",
       "</div>"
      ],
      "text/plain": [
       "  practice  total_cost_per_practice  rare_cost_per_practice  rare_cost_prop\n",
       "0   A81005                103840.82                 1247.83        0.012017\n",
       "1   A81007                113482.49                  951.06        0.008381\n",
       "2   A81011                159507.03                  816.02        0.005116"
      ]
     },
     "execution_count": 221,
     "metadata": {},
     "output_type": "execute_result"
    }
   ],
   "source": [
    "script_costs['rare_cost_prop'] =script_costs['rare_cost_per_practice'] / script_costs['total_cost_per_practice']\n",
    "script_costs.iloc[:3]"
   ]
  },
  {
   "cell_type": "markdown",
   "metadata": {},
   "source": [
    "Now we will calculate a z-score for each practice based on this proportion.\n",
    "First take the difference of `rare_cost_prop` and the proportion of costs originating from rare treatments across all practices."
   ]
  },
  {
   "cell_type": "code",
   "execution_count": 222,
   "metadata": {},
   "outputs": [],
   "source": [
    "script_costs['relative_rare_cost_prop'] = (script_costs['rare_cost_prop'] - scripts[scripts['rare']==True]['act_cost'].sum() / scripts['act_cost'].sum())"
   ]
  },
  {
   "cell_type": "markdown",
   "metadata": {},
   "source": [
    "Now we will estimate the standard errors (i.e. the denominator of the z-score) by simply taking the standard deviation of this difference."
   ]
  },
  {
   "cell_type": "code",
   "execution_count": 223,
   "metadata": {},
   "outputs": [],
   "source": [
    "script_costs['standard_errors'] = script_costs['relative_rare_cost_prop'].std()\n"
   ]
  },
  {
   "cell_type": "markdown",
   "metadata": {},
   "source": [
    "Finally compute the z-scores. Return the practices with the top 100 z-scores in the form `(post_code, practice_name, z-score)`. Note that some practice codes will correspond with multiple names. In this case, use the first match when sorting names alphabetically."
   ]
  },
  {
   "cell_type": "code",
   "execution_count": 224,
   "metadata": {},
   "outputs": [
    {
     "data": {
      "text/html": [
       "<div>\n",
       "<style scoped>\n",
       "    .dataframe tbody tr th:only-of-type {\n",
       "        vertical-align: middle;\n",
       "    }\n",
       "\n",
       "    .dataframe tbody tr th {\n",
       "        vertical-align: top;\n",
       "    }\n",
       "\n",
       "    .dataframe thead th {\n",
       "        text-align: right;\n",
       "    }\n",
       "</style>\n",
       "<table border=\"1\" class=\"dataframe\">\n",
       "  <thead>\n",
       "    <tr style=\"text-align: right;\">\n",
       "      <th></th>\n",
       "      <th>practice</th>\n",
       "      <th>total_cost_per_practice</th>\n",
       "      <th>rare_cost_per_practice</th>\n",
       "      <th>rare_cost_prop</th>\n",
       "      <th>relative_rare_cost_prop</th>\n",
       "      <th>standard_errors</th>\n",
       "      <th>z_scores</th>\n",
       "    </tr>\n",
       "  </thead>\n",
       "  <tbody>\n",
       "    <tr>\n",
       "      <th>0</th>\n",
       "      <td>A81005</td>\n",
       "      <td>103840.82</td>\n",
       "      <td>1247.83</td>\n",
       "      <td>0.012017</td>\n",
       "      <td>-0.003946</td>\n",
       "      <td>0.063534</td>\n",
       "      <td>-0.062111</td>\n",
       "    </tr>\n",
       "    <tr>\n",
       "      <th>1</th>\n",
       "      <td>A81007</td>\n",
       "      <td>113482.49</td>\n",
       "      <td>951.06</td>\n",
       "      <td>0.008381</td>\n",
       "      <td>-0.007582</td>\n",
       "      <td>0.063534</td>\n",
       "      <td>-0.119342</td>\n",
       "    </tr>\n",
       "    <tr>\n",
       "      <th>2</th>\n",
       "      <td>A81011</td>\n",
       "      <td>159507.03</td>\n",
       "      <td>816.02</td>\n",
       "      <td>0.005116</td>\n",
       "      <td>-0.010847</td>\n",
       "      <td>0.063534</td>\n",
       "      <td>-0.170728</td>\n",
       "    </tr>\n",
       "  </tbody>\n",
       "</table>\n",
       "</div>"
      ],
      "text/plain": [
       "  practice  total_cost_per_practice  rare_cost_per_practice  rare_cost_prop  \\\n",
       "0   A81005                103840.82                 1247.83        0.012017   \n",
       "1   A81007                113482.49                  951.06        0.008381   \n",
       "2   A81011                159507.03                  816.02        0.005116   \n",
       "\n",
       "   relative_rare_cost_prop  standard_errors  z_scores  \n",
       "0                -0.003946         0.063534 -0.062111  \n",
       "1                -0.007582         0.063534 -0.119342  \n",
       "2                -0.010847         0.063534 -0.170728  "
      ]
     },
     "execution_count": 224,
     "metadata": {},
     "output_type": "execute_result"
    }
   ],
   "source": [
    "script_costs['z_scores'] = (script_costs['relative_rare_cost_prop'] / script_costs['standard_errors'])\n",
    "script_costs.fillna(0, inplace=True)\n",
    "script_costs.iloc[:3]"
   ]
  },
  {
   "cell_type": "code",
   "execution_count": 225,
   "metadata": {},
   "outputs": [],
   "source": [
    "unique_practices = practices.sort_values('name').groupby('code', sort=False).first()\n",
    "unique_practices.reset_index(inplace=True)\n",
    "final_scripts = script_costs.merge(\n",
    "    unique_practices[['name', 'code']], how = 'inner', left_on = 'practice', right_on = 'code', sort = False)"
   ]
  },
  {
   "cell_type": "code",
   "execution_count": 226,
   "metadata": {},
   "outputs": [
    {
     "data": {
      "text/html": [
       "<div>\n",
       "<style scoped>\n",
       "    .dataframe tbody tr th:only-of-type {\n",
       "        vertical-align: middle;\n",
       "    }\n",
       "\n",
       "    .dataframe tbody tr th {\n",
       "        vertical-align: top;\n",
       "    }\n",
       "\n",
       "    .dataframe thead th {\n",
       "        text-align: right;\n",
       "    }\n",
       "</style>\n",
       "<table border=\"1\" class=\"dataframe\">\n",
       "  <thead>\n",
       "    <tr style=\"text-align: right;\">\n",
       "      <th></th>\n",
       "      <th>practice</th>\n",
       "      <th>total_cost_per_practice</th>\n",
       "      <th>rare_cost_per_practice</th>\n",
       "      <th>rare_cost_prop</th>\n",
       "      <th>relative_rare_cost_prop</th>\n",
       "      <th>standard_errors</th>\n",
       "      <th>z_scores</th>\n",
       "      <th>name</th>\n",
       "      <th>code</th>\n",
       "    </tr>\n",
       "  </thead>\n",
       "  <tbody>\n",
       "    <tr>\n",
       "      <th>0</th>\n",
       "      <td>A81005</td>\n",
       "      <td>103840.82</td>\n",
       "      <td>1247.83</td>\n",
       "      <td>0.012017</td>\n",
       "      <td>-0.003946</td>\n",
       "      <td>0.063534</td>\n",
       "      <td>-0.062111</td>\n",
       "      <td>SPRINGWOOD SURGERY</td>\n",
       "      <td>A81005</td>\n",
       "    </tr>\n",
       "    <tr>\n",
       "      <th>1</th>\n",
       "      <td>A81007</td>\n",
       "      <td>113482.49</td>\n",
       "      <td>951.06</td>\n",
       "      <td>0.008381</td>\n",
       "      <td>-0.007582</td>\n",
       "      <td>0.063534</td>\n",
       "      <td>-0.119342</td>\n",
       "      <td>BANKHOUSE SURGERY</td>\n",
       "      <td>A81007</td>\n",
       "    </tr>\n",
       "    <tr>\n",
       "      <th>2</th>\n",
       "      <td>A81011</td>\n",
       "      <td>159507.03</td>\n",
       "      <td>816.02</td>\n",
       "      <td>0.005116</td>\n",
       "      <td>-0.010847</td>\n",
       "      <td>0.063534</td>\n",
       "      <td>-0.170728</td>\n",
       "      <td>CHADWICK PRACTICE</td>\n",
       "      <td>A81011</td>\n",
       "    </tr>\n",
       "  </tbody>\n",
       "</table>\n",
       "</div>"
      ],
      "text/plain": [
       "  practice  total_cost_per_practice  rare_cost_per_practice  rare_cost_prop  \\\n",
       "0   A81005                103840.82                 1247.83        0.012017   \n",
       "1   A81007                113482.49                  951.06        0.008381   \n",
       "2   A81011                159507.03                  816.02        0.005116   \n",
       "\n",
       "   relative_rare_cost_prop  standard_errors  z_scores                name  \\\n",
       "0                -0.003946         0.063534 -0.062111  SPRINGWOOD SURGERY   \n",
       "1                -0.007582         0.063534 -0.119342   BANKHOUSE SURGERY   \n",
       "2                -0.010847         0.063534 -0.170728   CHADWICK PRACTICE   \n",
       "\n",
       "     code  \n",
       "0  A81005  \n",
       "1  A81007  \n",
       "2  A81011  "
      ]
     },
     "execution_count": 226,
     "metadata": {},
     "output_type": "execute_result"
    }
   ],
   "source": [
    "final_scripts.iloc[:3]"
   ]
  },
  {
   "cell_type": "code",
   "execution_count": 227,
   "metadata": {},
   "outputs": [],
   "source": [
    "final_scripts = final_scripts.sort_values(by='name', ascending=True)\n",
    "rare_scripts = [(row['practice'], row['name'], row['z_scores']) for index, row in final_scripts.iterrows()]"
   ]
  },
  {
   "cell_type": "code",
   "execution_count": 228,
   "metadata": {},
   "outputs": [
    {
     "data": {
      "text/plain": [
       "[('Y03472', 'CONSULTANT DIABETES TEAM', 15.488406625215609),\n",
       " ('Y05320', 'DMC COMMUNITY DERMATOLOGY RBWF', 14.408360263244049),\n",
       " ('Y04404', 'OUTPATIENTS JUBILEE HEALTH CENTRE', 7.183051624616913)]"
      ]
     },
     "execution_count": 228,
     "metadata": {},
     "output_type": "execute_result"
    }
   ],
   "source": [
    "rare_scripts = sorted(rare_scripts, key=lambda x: x[2], reverse = True)[:100]\n",
    "rare_scripts[:3]"
   ]
  },
  {
   "cell_type": "code",
   "execution_count": 229,
   "metadata": {},
   "outputs": [],
   "source": [
    "#rare_scripts = [(\"Y03472\", \"CONSULTANT DIABETES TEAM\", 16.2626871247)] * 100"
   ]
  },
  {
   "cell_type": "code",
   "execution_count": 230,
   "metadata": {},
   "outputs": [
    {
     "name": "stdout",
     "output_type": "stream",
     "text": [
      "==================\n",
      "Your score:  1.0\n",
      "==================\n"
     ]
    }
   ],
   "source": [
    "grader.score.dw__rare_scripts(rare_scripts)"
   ]
  },
  {
   "cell_type": "markdown",
   "metadata": {},
   "source": [
    "*Copyright &copy; 2020 The Data Incubator.  All rights reserved.*"
   ]
  }
 ],
 "metadata": {
  "kernelspec": {
   "display_name": "Python 3",
   "language": "python",
   "name": "python3"
  },
  "language_info": {
   "codemirror_mode": {
    "name": "ipython",
    "version": 3
   },
   "file_extension": ".py",
   "mimetype": "text/x-python",
   "name": "python",
   "nbconvert_exporter": "python",
   "pygments_lexer": "ipython3",
   "version": "3.7.3"
  },
  "nbclean": true
 },
 "nbformat": 4,
 "nbformat_minor": 1
}
